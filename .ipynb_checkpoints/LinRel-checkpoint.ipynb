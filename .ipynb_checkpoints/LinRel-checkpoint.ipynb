{
 "cells": [
  {
   "cell_type": "markdown",
   "metadata": {},
   "source": [
    "Linear Relations.\n",
    "To start let's just make an implementation of linear subspaces.\n",
    "\n",
    "\n",
    "Columns of vrep are generators / span the sub space / the range of the vrep\n",
    "Rows of hrep are constraints of subspace / the nullspace of hrep\n",
    "\n",
    "I was told I should use NullSpace / Range as the terms. I guess that makes sense.\n"
   ]
  },
  {
   "cell_type": "code",
   "execution_count": 1,
   "metadata": {},
   "outputs": [],
   "source": [
    "using LinearAlgebra\n",
    "using Catlab\n",
    "using Catlab.Doctrines"
   ]
  },
  {
   "cell_type": "code",
   "execution_count": 2,
   "metadata": {},
   "outputs": [],
   "source": [
    "#A*x = 0\n",
    "\n",
    "abstract type LinSpace end # LinRep?\n",
    "\n",
    "struct NullSpace{T} <: LinSpace \n",
    "   A :: AbstractArray{T}\n",
    "end\n",
    "struct RangeSpace{T} <: LinSpace \n",
    "   A :: AbstractArray{T}\n",
    "end\n",
    "\n",
    "# nullspace is already a function. It doesn't make sense\n",
    "# nrep\n",
    "# rrep\n",
    "function nrep(x::NullSpace) \n",
    "    NullSpace(nullspace(x.A))\n",
    "end\n",
    "\n",
    "function rrep(x::RangeSpace) \n",
    "    x\n",
    "end\n",
    "\n",
    "function nrep(x::RangeSpace)\n",
    "    NullSpace(nullspace(x.A')')\n",
    "end\n",
    "\n",
    "function rrep(x::NullSpace)\n",
    "    x\n",
    "end\n",
    "\n",
    "\n",
    "# meet is the intersection of 2 linear subspaces\n",
    "function meet(x::NullSpace, y::NullSpace)\n",
    "    NullSpace([x.A ; y.A])\n",
    "end\n",
    "\n",
    "function meet(x :: LinSpace, y :: LinSpace)\n",
    "     xh = nrep(x)\n",
    "     yh = nrep(y)  \n",
    "     meet(xh, yh)\n",
    "end\n",
    "\n",
    "\n",
    "# \\wedge \n",
    "∧ = meet\n",
    "\n",
    "\n",
    "function join(x::RangeSpace, y::RangeSpace)\n",
    "    RangeSpace([x.A y.A])\n",
    "end\n",
    "\n",
    "function join(x :: LinSpace, y :: LinSpace)\n",
    "    x = rrep(x)\n",
    "    y = rrep(y)\n",
    "    join(x,y)\n",
    "end\n",
    "    \n",
    "# \\vee\n",
    "∨ = join\n",
    "\n",
    "\n",
    "function subspace(r :: RangeSpace, p :: NullSpace)\n",
    "    all(isapprox.(p.A * r.A , 0; atol=eps(Float64), rtol=0))\n",
    "end\n",
    "\n",
    "\n",
    "function subspace(r :: LinSpace, p :: LinSpace)\n",
    "    p = nrep(p)\n",
    "    r = rrep(r)\n",
    "    subspace(r,p)\n",
    "end\n",
    "\n",
    "# \\subseteq\n",
    "function ⊆(x :: LinSpace, y :: LinSpace)\n",
    "    subspace(x,y)  \n",
    "end\n",
    "\n",
    "function ==(x :: LinSpace, y :: LinSpace)\n",
    "    (x ⊆ y) && (y ⊆ x)\n",
    "end\n",
    "\n",
    "function top(n)\n",
    "   Range(Matrix(I, n, n)) \n",
    "end \n",
    "\n",
    "# \\top\n",
    "⊤ = top\n",
    "\n",
    "function bottom(n)\n",
    "    NullSpace(Matrix(I, n, n)) \n",
    "end\n",
    "\n",
    "# \\bot\n",
    "⊥ = bottom\n",
    "\n",
    "# projection functions\n",
    "function Base.getindex(p::RangeSpace, i)\n",
    "    RangeSpace( p.A[i, :] )\n",
    "end  \n",
    "\n",
    "function Base.getindex(p::NullSpace, i)\n",
    "    rrep(p)[i]\n",
    "end    \n",
    "\n",
    "function Base.size(p::RangeSpace)\n",
    "    size(p.A)[1]\n",
    "end\n",
    "\n",
    "function Base.size(p::NullSpace)\n",
    "    size(p.A)[2]\n",
    "end"
   ]
  },
  {
   "cell_type": "code",
   "execution_count": 10,
   "metadata": {},
   "outputs": [
    {
     "data": {
      "text/plain": [
       "true"
      ]
     },
     "execution_count": 10,
     "metadata": {},
     "output_type": "execute_result"
    }
   ],
   "source": [
    "RangeSpace(Matrix(I,3,3)) ⊆ RangeSpace(Matrix(I,3,3))"
   ]
  },
  {
   "cell_type": "markdown",
   "metadata": {},
   "source": [
    "The stratagem to talk about affine subspaces is to use homogenous coordinates. The last dimension is used as a constant.\n",
    "\n"
   ]
  },
  {
   "cell_type": "markdown",
   "metadata": {},
   "source": [
    "Wrapping this functionality with a relational interface.\n",
    "We need to track the seperation between input and output dimensions\n",
    "\n",
    "How do we do this such that it won't suck to implement and/or use?\n",
    "\n",
    "One option is to hold the \"input\" and \"output\" pieces seperately"
   ]
  },
  {
   "cell_type": "code",
   "execution_count": 5,
   "metadata": {},
   "outputs": [],
   "source": [
    "\n",
    "\n",
    "abstract type LinRel end\n",
    "    \n",
    "struct LinRelR <: LinRel\n",
    "    a :: RangeSpace # pre slice out the different sections?\n",
    "    b :: RangeSpace # \n",
    "end\n",
    "\n",
    "struct LinRelN <: LinRel\n",
    "    a :: NullSpace # pre slice out the different sections?\n",
    "    b :: NullSpace # invaraint is the\n",
    "end"
   ]
  },
  {
   "cell_type": "code",
   "execution_count": 8,
   "metadata": {},
   "outputs": [
    {
     "data": {
      "text/plain": [
       "id (generic function with 1 method)"
      ]
     },
     "execution_count": 8,
     "metadata": {},
     "output_type": "execute_result"
    }
   ],
   "source": [
    "\n",
    "\n",
    "\n",
    "# abstract type LinRel\n",
    "# LinRelV <: LinRel\n",
    "# LinRelH <: LinRel\n",
    "\n",
    "function nrep(x :: LinRelR)\n",
    "    LinRelN( nrep(x.a) , nrep(x.b) )\n",
    "end\n",
    "\n",
    "function nrep(x :: LinRelN)\n",
    "    x\n",
    "end\n",
    "\n",
    "function rrep(x :: LinRelN)\n",
    "    LinRelR( rrep(x.a) , rrep(x.b) )\n",
    "end\n",
    "\n",
    "function rrep(x :: LinRelR)\n",
    "    x\n",
    "end\n",
    "\n",
    "# Replicate all the operations?\n",
    "function compose(p :: LinRelN, q :: LinRelN)\n",
    "    (cp, na)= size(p.a.A)\n",
    "    (cp, nb)= size(p.b.A)\n",
    "    (cq, nb)= size(q.a.A)\n",
    "    (cq, nc)= size(q.b.A)\n",
    "    s = NullSpace([ p.a           p.b  zeros(cp,nc) ;\n",
    "                    zeros(cq, na) q.a  q.b          ])\n",
    "    s2 = vrep(s)\n",
    "    LinRelR(  s2[1:na] ,  s2[(na + nb + 1):end] )\n",
    "end\n",
    "function compose(p :: LinRel, q :: LinRel)\n",
    "    p = nrep(p)\n",
    "    q = nrep(q)\n",
    "    compose( p, q )\n",
    "end\n",
    "#=\n",
    "function compose(p :: LinRelV, q :: LinRelV)\n",
    "    p = hrep(p)\n",
    "    compose(p,q)\n",
    "end\n",
    "\n",
    "function compose(p :: LinRelH, q :: LinRelV)\n",
    "    q = hrep(q)\n",
    "    compose(p,q)\n",
    "end\n",
    "\n",
    "function compose(p :: LinRelV, q:: LinRelH)\n",
    "    p = hrep(p)\n",
    "    compose(p,q)\n",
    "end\n",
    "\n",
    "\n",
    "function Base.size( p :: LinRelH)\n",
    "    (size(p.a), size(p.b))\n",
    "end\n",
    "\n",
    "function Base.size( p :: LinRelV)\n",
    "    (size(p.a), size(p.b))\n",
    "end\n",
    "=#\n",
    "function Base.size( p :: LinRel)\n",
    "    (size(p.a), size(p.b))\n",
    "end\n",
    "    \n",
    "function fuse(p :: LinRelR)\n",
    "    RangeSpace( [ p.a ; p.b ]  )\n",
    "end\n",
    "\n",
    "function fuse(p :: LinRelN)\n",
    "    NullSpace( [ p.a p.b ] )\n",
    "end\n",
    "\n",
    "function subset(p :: LinRel, q :: LinRel)\n",
    "    subset(fuse(p), fuse(q))\n",
    "end\n",
    "\n",
    "converse(p :: LinRelN) = LinRelN(p.b, p.a)\n",
    "converse(p :: LinRelR) = LinRelR(p.b, p.a)\n",
    "\n",
    "\n",
    "function id(n)\n",
    "    LinRelR(Matrix(I,n,n), Matrix(I,n,n))\n",
    "end\n",
    "\n",
    "\n",
    "\n",
    "    \n",
    "    "
   ]
  },
  {
   "cell_type": "markdown",
   "metadata": {},
   "source": [
    "Monoidal Product\n",
    "\n",
    "complement of vector space is also something to do.\n"
   ]
  },
  {
   "cell_type": "code",
   "execution_count": 7,
   "metadata": {},
   "outputs": [
    {
     "ename": "LoadError",
     "evalue": "syntax: unexpected \"end\"",
     "output_type": "error",
     "traceback": [
      "syntax: unexpected \"end\"",
      ""
     ]
    }
   ],
   "source": [
    "#surely this is somewhere?\n",
    "function diagzero(a, b)\n",
    "    ar, ac = size(a)\n",
    "    br, bc = size(b)\n",
    "    [a              zeros( ar, bc) ;\n",
    "      zeros(br, ac )    b] , \n",
    "end\n",
    "\n",
    "function dsum(p :: LinRelR, r :: LinRelR)\n",
    "    LinRelR( diagzero(p.a, r.a), diagzero(p.b , r.b)) \n",
    "end\n",
    "\n",
    "function dsum(p :: LinRelN, r :: LinRelN)\n",
    "    LinRelN( diagzero(p.a, r.a), diagzero(p.b , r.b)) \n",
    "end\n",
    "\n",
    "\n",
    "delete(n::Int) = LinRelV(zeros(n,0),zeros(0,0))\n",
    "mcopy(n::Int) = LinRelV( [Matrix(I,n,n) Matrix(I,n,n) ], diagzero(Matrix(I,n,n), Matrix(I,n,n)))\n",
    "# pair(p :: LinRelN, q :: LinRelN) = \n",
    "proj1(n,m) = LinRelV( RangeSpace([Matrix(I,m,m) ; zeros( n - m , m )  ])  ,  RangeSpace(Matrix(I,m,m)) )\n",
    "proj2(n,m) = LinRelV( RangeSpace([zeros( n - m , m )  ; Matrix(I,m,m) ])  ,  RangeSpace(Matrix(I,m,m)) )"
   ]
  },
  {
   "cell_type": "code",
   "execution_count": 25,
   "metadata": {},
   "outputs": [],
   "source": [
    "\n",
    "\n",
    "@instance Category(Int, LinRel) begin\n",
    "  dom(M :: LinRel) = size(M.a)\n",
    "  codom(M :: LinRel) = size(M.b)\n",
    "\n",
    "  id(m::Int) = LinRelR( RangeSpace(Matrix(I,m,m)), RangeSpace(Matrix(I,m,m)))\n",
    "  compose(M::LinRel, N::LinRel) = compose(M, N)\n",
    "end"
   ]
  },
  {
   "cell_type": "code",
   "execution_count": 27,
   "metadata": {},
   "outputs": [
    {
     "ename": "ErrorException",
     "evalue": "Method dom(::LinRel) not implemented in MonoidalCategory instance",
     "output_type": "error",
     "traceback": [
      "Method dom(::LinRel) not implemented in MonoidalCategory instance",
      "",
      "Stacktrace:",
      " [1] error(::String) at ./error.jl:33",
      " [2] instance_code(::Module, ::Array{Symbol,1}, ::Array{Catlab.Meta.JuliaFunction,1}) at /Users/philip/.julia/packages/Catlab/BhYS1/src/core/GAT.jl:532",
      " [3] top-level scope at In[27]:1"
     ]
    }
   ],
   "source": [
    "@instance MonoidalCategory(Int, LinRel) begin\n",
    "  otimes(A :: Int, B :: Int) = A + B\n",
    "  otimes(f :: LinRel, g :: LinRel) = dsum(f,g)\n",
    "  munit() = 0\n",
    "end"
   ]
  },
  {
   "cell_type": "code",
   "execution_count": null,
   "metadata": {},
   "outputs": [],
   "source": [
    "\"\"\"\n",
    "@signature MonoidalCategoryWithDiagonals(Ob,Hom) => CartesianCategory(Ob,Hom) begin\n",
    "  pair(f::Hom(A,B), g::Hom(A,C))::Hom(A,otimes(B,C)) <= (A::Ob, B::Ob, C::Ob)\n",
    "  proj1(A::Ob, B::Ob)::Hom(otimes(A,B),A)\n",
    "  proj2(A::Ob, B::Ob)::Hom(otimes(A,B),B)\n",
    "end\n",
    "\n",
    "braid(A::Ob, B::Ob)::Hom(otimes(A,B),otimes(B,A))\n",
    "\n",
    "\n",
    "@signature SymmetricMonoidalCategory(Ob,Hom) => MonoidalCategoryWithDiagonals(Ob,Hom) begin\n",
    "  mcopy(A::Ob)::Hom(A,otimes(A,A))\n",
    "  delete(A::Ob)::Hom(A,munit())\n",
    "  \n",
    "  # Unicode syntax\n",
    "  Δ(A::Ob) = mcopy(A)\n",
    "  ◇(A::Ob) = delete(A)\n",
    "end\n",
    "\n",
    "\n",
    "\n",
    "\"\"\"\n"
   ]
  },
  {
   "cell_type": "code",
   "execution_count": 13,
   "metadata": {},
   "outputs": [
    {
     "ename": "StackOverflowError",
     "evalue": "StackOverflowError:",
     "output_type": "error",
     "traceback": [
      "StackOverflowError:",
      "",
      "Stacktrace:",
      " [1] compose(::LinRelR, ::LinRelR) at ./In[10]:8 (repeats 80000 times)"
     ]
    }
   ],
   "source": [
    "codom( compose(id(3), id(3)) )"
   ]
  },
  {
   "cell_type": "code",
   "execution_count": 20,
   "metadata": {},
   "outputs": [
    {
     "data": {
      "text/plain": [
       "10×0 Array{Float64,2}"
      ]
     },
     "execution_count": 20,
     "metadata": {},
     "output_type": "execute_result"
    }
   ],
   "source": [
    "zeros(10,0)"
   ]
  },
  {
   "cell_type": "code",
   "execution_count": null,
   "metadata": {},
   "outputs": [],
   "source": [
    "# LinRel makes sense \n",
    "struct LinRel\n",
    "   shape  # :: Tuple{Int,Int}  # shape is a tuple of indices. The size of rep should equal the sum of shape\n",
    "   rep :: LinSpace\n",
    "end\n",
    "\n",
    "function meet(x :: LinRel, y :: LinRel)\n",
    "    @assert x.shape == y.shape\n",
    "    LinRel(x.shape, meet(x.rep, y.rep))\n",
    "end\n",
    "\n",
    "function join(x :: LinRel, y :: LinRel)\n",
    "    @assert x.shape == y.shape\n",
    "    LinRel(x.shape, join(x.rep, y.rep))\n",
    "end\n",
    "\n",
    "function Base.size(x :: LinRel)\n",
    "    x.shape\n",
    "end\n",
    "\n",
    "function compose(x :: LinRel, y :: LinRel)\n",
    "    @assert x.shape[2] == y.shape[1]\n",
    "    p = hrep(x.rep).A\n",
    "    pc = size()\n",
    "    a = p[:, 1:x.shape[1]]\n",
    "    b = p[:, (x.shape[1]+1):end]\n",
    "    q = hrep(y.rep).A   \n",
    "    c = p[:, 1:y.shape[1]]\n",
    "    d = p[:, (y.shape[1] + 1):end]\n",
    "    [ a b zeros(size(p)[1])  )   ]\n",
    "    LinRel(x.shape, join(x.rep, y.rep))\n",
    "end"
   ]
  },
  {
   "cell_type": "code",
   "execution_count": 19,
   "metadata": {},
   "outputs": [],
   "source": [
    "struct RelDomain\n",
    "    dom :: Array{Symbol,1}\n",
    "end\n",
    "\n",
    "struct LinRel\n",
    "    dom :: RelDomain\n",
    "    codom :: RelDomain  \n",
    "    rep :: Union{VRep, HRep}\n",
    "end\n",
    "\n",
    "struct LinRel2\n",
    "    dom :: RelDomain\n",
    "    codom :: RelDomain  \n",
    "    a :: VRep # pre slice out the different sections?\n",
    "    b :: Vrep \n",
    "end\n",
    "\n",
    "\n",
    "struct LinRelV\n",
    "    a :: VRep # pre slice out the different sections?\n",
    "    b :: Vrep \n",
    "end\n",
    "\n",
    "struct LinRelH\n",
    "    a :: HRep # pre slice out the different sections?\n",
    "    b :: Hrep \n",
    "end"
   ]
  },
  {
   "cell_type": "code",
   "execution_count": 24,
   "metadata": {},
   "outputs": [
    {
     "ename": "ErrorException",
     "evalue": "type Array has no field size",
     "output_type": "error",
     "traceback": [
      "type Array has no field size",
      "",
      "Stacktrace:",
      " [1] getproperty(::Any, ::Symbol) at ./Base.jl:20",
      " [2] top-level scope at In[24]:1"
     ]
    }
   ],
   "source": []
  },
  {
   "cell_type": "code",
   "execution_count": 20,
   "metadata": {},
   "outputs": [
    {
     "data": {
      "text/plain": [
       "RelDomain2(Symbol[:i, :v, :i, :v])"
      ]
     },
     "execution_count": 20,
     "metadata": {},
     "output_type": "execute_result"
    }
   ],
   "source": [
    "RelDomain2([:i, :v, :i, :v])"
   ]
  },
  {
   "cell_type": "markdown",
   "metadata": {},
   "source": [
    "Here's an idea. In ordinary numpy multindexes is about direct product\n",
    "But we could use hierarchical indxing instead fro direct sum\n",
    "\n",
    "[0, 0, 0 ,0:]\n",
    "\n",
    "How would broadcasting work?\n",
    "\n",
    "What would i even need to broadcast though\n",
    "\n",
    "relation of shape (n,m,p, ..) has n+ m + p _ .. variables/\n",
    "\n"
   ]
  },
  {
   "cell_type": "code",
   "execution_count": null,
   "metadata": {},
   "outputs": [],
   "source": [
    "struct VRep2{T,S}\n",
    "    a :: AbstractArray{T}\n",
    "    shape :: S\n",
    "end\n",
    "\n",
    "function reshape(x :: VRep2, newshape :: ?  )\n",
    "    @assert sum(size(x)) == sum(newshape)\n",
    "    VRep( x.A, newshape )\n",
    "end"
   ]
  },
  {
   "cell_type": "code",
   "execution_count": 30,
   "metadata": {},
   "outputs": [
    {
     "data": {
      "text/plain": [
       "Tuple{Int64,Int64,Int64}"
      ]
     },
     "execution_count": 30,
     "metadata": {},
     "output_type": "execute_result"
    }
   ],
   "source": [
    "typeof(size(reshape([1 2 3 4], (1,2,2)) ) )"
   ]
  },
  {
   "cell_type": "markdown",
   "metadata": {},
   "source": [
    "What if we made the product category with a symbol category"
   ]
  }
 ],
 "metadata": {
  "@webio": {
   "lastCommId": null,
   "lastKernelId": null
  },
  "kernelspec": {
   "display_name": "Julia 1.2.0",
   "language": "julia",
   "name": "julia-1.2"
  },
  "language_info": {
   "file_extension": ".jl",
   "mimetype": "application/julia",
   "name": "julia",
   "version": "1.2.0"
  }
 },
 "nbformat": 4,
 "nbformat_minor": 2
}
