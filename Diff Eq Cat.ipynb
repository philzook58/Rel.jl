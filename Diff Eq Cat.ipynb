{
 "cells": [
  {
   "cell_type": "markdown",
   "metadata": {},
   "source": [
    "Differential Equations\n",
    "\n",
    "xdot = f(x,t )\n",
    "\n",
    "function lorenz!(du,u,p,t)\n",
    " du[1] = 10.0*(u[2]-u[1])\n",
    " du[2] = u[1]*(28.0-u[3]) - u[2]\n",
    " du[3] = u[1]*u[2] - (8/3)*u[3]\n",
    "end\n",
    "\n",
    "Basically we need to compositionally construct f\n",
    "\n",
    "There may be multiple natural dimensions of composition\n",
    "In time for temporally changing / switching behavior\n",
    "\n",
    "struct DiffEq\n",
    "    f :: Function\n",
    "    interval :: Tuple{Double,Double}\n",
    "end\n",
    "\n",
    "\n",
    "condition :: to transition to new state\n",
    "\n",
    "\n",
    "\n",
    "\n",
    "\n",
    "\n",
    "\n",
    "\n"
   ]
  }
 ],
 "metadata": {
  "kernelspec": {
   "display_name": "Julia 1.2.0",
   "language": "julia",
   "name": "julia-1.2"
  },
  "language_info": {
   "file_extension": ".jl",
   "mimetype": "application/julia",
   "name": "julia",
   "version": "1.2.0"
  }
 },
 "nbformat": 4,
 "nbformat_minor": 2
}
