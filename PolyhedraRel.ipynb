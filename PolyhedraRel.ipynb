{
 "cells": [
  {
   "cell_type": "markdown",
   "metadata": {},
   "source": [
    "Polyhedra are a particular parametreization of sets in space. They are finitely storable as either a list of their corners, or as a list of their half planes. The Polyhedra.jl library has bindings to lower level C routines for converting and manipulating these representations. https://juliapolyhedra.github.io/Polyhedra.jl/stable/\n",
    "\n",
    "https://juliareach.github.io/LazySets.jl/dev/man/concrete_polyhedra/ We may also want to consider using LazySets.jl\n",
    "\n",
    "Relations (binary) are sets of tuples. We can arbitrarily cut the dimensionality of a polyhedra into \"input\" dimensions and \"output\" dimensions to reinterpet the polyhedra as a relation.\n",
    "\n",
    "The purpose of this is for a point-free algebra of composition. The speeration into input and output dimensions specifies which dimensions we want to project out when we compose two polyhedral relations together.\n",
    "\n",
    "Because this projectionmm composition is associative and has an identity (which is the linear subspace x == y_ it forms a category. Using the cartesian product of polyhedra gives it the structure of a cartesian monoidal category. The operation of polyhedral containment, interesection, and convex union gives PolyRel the structure of an allegory / relation algebra.\n"
   ]
  },
  {
   "cell_type": "code",
   "execution_count": 1,
   "metadata": {},
   "outputs": [],
   "source": [
    "using Polyhedra\n",
    "struct PolyRel{T}\n",
    "   # n :: Int64\n",
    "   a :: Array{Symbol} # labels for input variables. \n",
    "   b :: Array{Symbol} # labels for output variables. size(a) + size(b) == fulldim(p) as an invariant\n",
    "   p :: Polyhedron\n",
    "end\n",
    "\n",
    "# should we make a smart constructor to check the invariant?"
   ]
  },
  {
   "cell_type": "code",
   "execution_count": 5,
   "metadata": {},
   "outputs": [
    {
     "data": {
      "text/plain": [
       "V-representation MixedMatVRep{Int64,Array{Int64,2}}:\n",
       "3-element iterator of Array{Int64,1}:\n",
       " [1, 0, 0, -1, 0, 0]\n",
       " [0, 1, 0, 0, -1, 0]\n",
       " [0, 0, 1, 0, 0, -1]"
      ]
     },
     "execution_count": 5,
     "metadata": {},
     "output_type": "execute_result"
    }
   ],
   "source": [
    "vrep( [3 0 ; 0 1] )\n",
    "using LinearAlgebra\n",
    "vrep(  [ Matrix(I, 3, 3) -Matrix(I,3,3) ] )"
   ]
  },
  {
   "cell_type": "code",
   "execution_count": 9,
   "metadata": {},
   "outputs": [
    {
     "data": {
      "text/plain": [
       "V-representation MixedMatVRep{Float64,Array{Float64,2}}:\n",
       "6-element iterator of Array{Float64,1}:\n",
       " [1.0, 0.0, 0.0, -1.0, -0.0, -0.0]\n",
       " [0.0, 1.0, 0.0, -0.0, -1.0, -0.0]\n",
       " [0.0, 0.0, 1.0, -0.0, -0.0, -1.0]\n",
       " [-1.0, -0.0, -0.0, 1.0, 0.0, 0.0]\n",
       " [-0.0, -1.0, -0.0, 0.0, 1.0, 0.0]\n",
       " [-0.0, -0.0, -1.0, 0.0, 0.0, 1.0]"
      ]
     },
     "execution_count": 9,
     "metadata": {},
     "output_type": "execute_result"
    }
   ],
   "source": [
    "function identity(symbol)\n",
    "   n = size(symbol)\n",
    "   # we should probably be explicitly saying this is a linear space\n",
    "   PolyRel( symbol, symbol, vrep( [Matrix(I,n,n) -Matrix(I,n,n)   ; -Matrix(I,n,n)  Matrix(I,n,n)])\n",
    "end\n",
    "    \n",
    "# There is also an hrep for indentity. Also they can be fused usually."
   ]
  },
  {
   "cell_type": "code",
   "execution_count": null,
   "metadata": {},
   "outputs": [],
   "source": [
    "function ⊗( x :: PolyRel, y :: PolyRel   )\n",
    "    PolRel(vcat(x.a, y.a), vcat(x.b, y.b),   ) \n",
    "end"
   ]
  },
  {
   "cell_type": "code",
   "execution_count": 14,
   "metadata": {},
   "outputs": [
    {
     "data": {
      "text/plain": [
       "6-element Array{Int64,1}:\n",
       " 1\n",
       " 2\n",
       " 3\n",
       " 4\n",
       " 5\n",
       " 6"
      ]
     },
     "execution_count": 14,
     "metadata": {},
     "output_type": "execute_result"
    }
   ],
   "source": [
    "vcat([1, 2, 3], [4,5,6])"
   ]
  },
  {
   "cell_type": "code",
   "execution_count": 4,
   "metadata": {},
   "outputs": [
    {
     "name": "stdout",
     "output_type": "stream",
     "text": [
      "search: \u001b[0m\u001b[1mP\u001b[22m\u001b[0m\u001b[1mo\u001b[22m\u001b[0m\u001b[1ml\u001b[22m\u001b[0m\u001b[1my\u001b[22m\u001b[0m\u001b[1mh\u001b[22m\u001b[0m\u001b[1me\u001b[22m\u001b[0m\u001b[1md\u001b[22m\u001b[0m\u001b[1mr\u001b[22m\u001b[0m\u001b[1mo\u001b[22m\u001b[0m\u001b[1mn\u001b[22m \u001b[0m\u001b[1mp\u001b[22m\u001b[0m\u001b[1mo\u001b[22m\u001b[0m\u001b[1ml\u001b[22m\u001b[0m\u001b[1my\u001b[22m\u001b[0m\u001b[1mh\u001b[22m\u001b[0m\u001b[1me\u001b[22m\u001b[0m\u001b[1md\u001b[22m\u001b[0m\u001b[1mr\u001b[22m\u001b[0m\u001b[1mo\u001b[22m\u001b[0m\u001b[1mn\u001b[22m load\u001b[0m\u001b[1mp\u001b[22m\u001b[0m\u001b[1mo\u001b[22m\u001b[0m\u001b[1ml\u001b[22m\u001b[0m\u001b[1my\u001b[22m\u001b[0m\u001b[1mh\u001b[22m\u001b[0m\u001b[1me\u001b[22m\u001b[0m\u001b[1md\u001b[22m\u001b[0m\u001b[1mr\u001b[22m\u001b[0m\u001b[1mo\u001b[22m\u001b[0m\u001b[1mn\u001b[22m! Default\u001b[0m\u001b[1mP\u001b[22m\u001b[0m\u001b[1mo\u001b[22m\u001b[0m\u001b[1ml\u001b[22m\u001b[0m\u001b[1my\u001b[22m\u001b[0m\u001b[1mh\u001b[22m\u001b[0m\u001b[1me\u001b[22m\u001b[0m\u001b[1md\u001b[22m\u001b[0m\u001b[1mr\u001b[22m\u001b[0m\u001b[1mo\u001b[22m\u001b[0m\u001b[1mn\u001b[22m\n",
      "\n"
     ]
    },
    {
     "data": {
      "text/latex": [
       "No documentation found.\n",
       "\n",
       "\\texttt{Polyhedra.Polyhedron} is of type \\texttt{UnionAll}.\n",
       "\n",
       "\\section{Summary}\n",
       "\\begin{verbatim}\n",
       "struct UnionAll <: Type{T}\n",
       "\\end{verbatim}\n",
       "\\section{Fields}\n",
       "\\begin{verbatim}\n",
       "var  :: TypeVar\n",
       "body :: Any\n",
       "\\end{verbatim}\n",
       "\\section{Supertype Hierarchy}\n",
       "\\begin{verbatim}\n",
       "UnionAll <: Type{T} <: Any\n",
       "\\end{verbatim}\n"
      ],
      "text/markdown": [
       "No documentation found.\n",
       "\n",
       "`Polyhedra.Polyhedron` is of type `UnionAll`.\n",
       "\n",
       "# Summary\n",
       "\n",
       "```\n",
       "struct UnionAll <: Type{T}\n",
       "```\n",
       "\n",
       "# Fields\n",
       "\n",
       "```\n",
       "var  :: TypeVar\n",
       "body :: Any\n",
       "```\n",
       "\n",
       "# Supertype Hierarchy\n",
       "\n",
       "```\n",
       "UnionAll <: Type{T} <: Any\n",
       "```\n"
      ],
      "text/plain": [
       "  No documentation found.\n",
       "\n",
       "  \u001b[36mPolyhedra.Polyhedron\u001b[39m is of type \u001b[36mUnionAll\u001b[39m.\n",
       "\n",
       "\u001b[1m  Summary\u001b[22m\n",
       "\u001b[1m  ≡≡≡≡≡≡≡≡≡\u001b[22m\n",
       "\n",
       "\u001b[36m  struct UnionAll <: Type{T}\u001b[39m\n",
       "\n",
       "\u001b[1m  Fields\u001b[22m\n",
       "\u001b[1m  ≡≡≡≡≡≡≡≡\u001b[22m\n",
       "\n",
       "\u001b[36m  var  :: TypeVar\u001b[39m\n",
       "\u001b[36m  body :: Any\u001b[39m\n",
       "\n",
       "\u001b[1m  Supertype Hierarchy\u001b[22m\n",
       "\u001b[1m  ≡≡≡≡≡≡≡≡≡≡≡≡≡≡≡≡≡≡≡≡≡\u001b[22m\n",
       "\n",
       "\u001b[36m  UnionAll <: Type{T} <: Any\u001b[39m"
      ]
     },
     "execution_count": 4,
     "metadata": {},
     "output_type": "execute_result"
    }
   ],
   "source": [
    "?Polyhedron"
   ]
  },
  {
   "cell_type": "code",
   "execution_count": null,
   "metadata": {},
   "outputs": [],
   "source": [
    "# gives full dimensionality to input\n",
    "#function liftRel(p :: Polyhedra.Representation{T} )\n",
    "#    PolyRel( Polyhedra.fulldim(p), p )\n",
    "#end"
   ]
  },
  {
   "cell_type": "code",
   "execution_count": null,
   "metadata": {},
   "outputs": [],
   "source": [
    "# flip flopping boundary\n",
    "#function trans(r, n)\n",
    "#    @assert fulldim(r.p) <= n\n",
    "#    PolyRel(n, p.A)\n",
    "#end"
   ]
  },
  {
   "cell_type": "markdown",
   "metadata": {},
   "source": [
    "The primitive elements are\n",
    "\n",
    "HalfSpace\n",
    "HyperPlane\n",
    "\n",
    "Ray\n",
    "Line\n",
    "\n",
    "If you limitted yourself to HyperPlane and Line, you are working with linear/affine relations."
   ]
  },
  {
   "cell_type": "code",
   "execution_count": 3,
   "metadata": {},
   "outputs": [
    {
     "ename": "MethodError",
     "evalue": "MethodError: no method matching PolyRel(::Array{Symbol,1}, ::Array{Symbol,1}, ::HyperPlane{Int64,Array{Int64,1}})\nClosest candidates are:\n  PolyRel(::Array{Symbol,N} where N, ::Array{Symbol,N} where N, !Matched::Representation{T}) where T at In[2]:3",
     "output_type": "error",
     "traceback": [
      "MethodError: no method matching PolyRel(::Array{Symbol,1}, ::Array{Symbol,1}, ::HyperPlane{Int64,Array{Int64,1}})\nClosest candidates are:\n  PolyRel(::Array{Symbol,N} where N, ::Array{Symbol,N} where N, !Matched::Representation{T}) where T at In[2]:3",
      "",
      "Stacktrace:",
      " [1] top-level scope at In[3]:1"
     ]
    }
   ],
   "source": [
    "PolyRel([ :i ]  , [ :i ] , HyperPlane([1, -1]  , 0 ) )"
   ]
  },
  {
   "cell_type": "code",
   "execution_count": null,
   "metadata": {},
   "outputs": [],
   "source": []
  }
 ],
 "metadata": {
  "kernelspec": {
   "display_name": "Julia 1.2.0",
   "language": "julia",
   "name": "julia-1.2"
  },
  "language_info": {
   "file_extension": ".jl",
   "mimetype": "application/julia",
   "name": "julia",
   "version": "1.2.0"
  }
 },
 "nbformat": 4,
 "nbformat_minor": 2
}
