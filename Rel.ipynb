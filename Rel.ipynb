{
 "cells": [
  {
   "cell_type": "code",
   "execution_count": null,
   "metadata": {},
   "outputs": [],
   "source": [
    "#A*x = 0\n",
    "using LinearAlgebra\n",
    "struct HRep{T}\n",
    "   n :: Int64 #input size\n",
    "   A :: AbstractArray{T}\n",
    "end\n",
    "struct VRep{T}\n",
    "   n :: Int64 #input size\n",
    "   A :: AbstractArray{T}\n",
    "end\n",
    "\n",
    "function vrep(x::HRep) \n",
    "    VRep(x.n, nullspace(x.A))\n",
    "end\n",
    "function hrep(x::VRep)\n",
    "    HRep(x.n, nullspace(x.A')')\n",
    "end\n",
    "\n",
    "\n",
    "function meet(x::HRep, y::HRep)\n",
    "    @assert x.n == y.n\n",
    "    HRep(x.n, [x.A ; y.A])\n",
    "end\n",
    "function meet(x::VRep, y::VRep)\n",
    "    @assert x.n == y.n\n",
    "    xh = hrep(x)\n",
    "    yh = hrep(y)\n",
    "    HRep(x.n, [xh.A ; yh.A])\n",
    "end\n",
    "function meet(x::HRep, y::VRep)\n",
    "    @assert x.n == y.n\n",
    "    yh = hrep(y)\n",
    "    HRep(x.n, [x.A ; yh.A])\n",
    "end\n",
    "function meet(x::VRep, y::HRep)\n",
    "    @assert x.n == y.n\n",
    "    xh = hrep(x)\n",
    "    HRep(x.n, [xh.A ; y.A])\n",
    "end\n",
    "\n",
    "\n",
    "function join(x::VRep, y::VRep)\n",
    "    @assert x.n == y.n\n",
    "    VRep(x.n, [x.A y.A])\n",
    "end\n",
    "function join(x::HRep, y::HRep)\n",
    "    yv = vrep(y)\n",
    "    join(x,yv)\n",
    "end\n",
    "function join(x::VRep, y::HRep)\n",
    "        xv = vrep(x)\n",
    "        join(xv,y)\n",
    "end\n",
    "function join(x::HRep, y::HRep)\n",
    "        xv = vrep(x)\n",
    "        join(xv,y)\n",
    "end\n",
    "    \n",
    "function rid(n)\n",
    "    VRep(n, [ Matrix(I,n,n) ; Matrix(I,n,n) ]  )\n",
    "end\n",
    "\n",
    "\n",
    "function rsub(r :: VRep,p :: HRep)\n",
    "    all(isapprox.(p.A * r.A , 0; atol=eps(Float64), rtol=0))\n",
    "end\n",
    "\n",
    "function rsub(r :: VRep, p :: VRep)\n",
    "    p = hrep(p)\n",
    "    all(isapprox.(p.A  * r.A , 0; atol=eps(Float64), rtol=0))\n",
    "end\n",
    "\n",
    "function heq(p,q)\n",
    "   rsub(p,q) && rsub(q,p) \n",
    "end\n",
    "\n",
    "\n",
    "function converse(p :: VRep)\n",
    "   n, g = size(p.A)\n",
    "    VRep( n - p.n  , [p.A[p.n + 1 : end, :] ;  p.A[1 : p.n, :]  ]) \n",
    "end\n",
    "\n",
    "function converse(p :: HRep)\n",
    "   c, n = size(p.A)\n",
    "   HRep( n - p.n  , [p.A[:, p.n + 1 : end]  p.A[:, 1 : p.n]]) \n",
    "end\n",
    "\n",
    "function top(n)\n",
    "   VRep(n, Matrix(I, n, n)) \n",
    "end \n",
    "function bottom(n)\n",
    "    HRep(n, Matrix(I, n, n)) \n",
    "end\n",
    "\n",
    "\n",
    "function compose(x::HRep, y::HRep)\n",
    "    cx, nx = size(x.A)\n",
    "    cy, ny = size(y.A)    \n",
    "    na = x.n\n",
    "    nb = nx - x.n # which should equal y.n\n",
    "    nc = ny - y.n\n",
    "    B = [                x.A          zeros( cx, ny - y.n) ; \n",
    "         zeros( cy, x.n  )      y.A                        ]\n",
    "    C = nullspace(B)\n",
    "    return VRep([  C[1 : n.x, :]          ; \n",
    "                   C[ nx+y.n + 1:end, :] ])\n",
    "end"
   ]
  },
  {
   "cell_type": "code",
   "execution_count": 2,
   "metadata": {},
   "outputs": [
    {
     "name": "stdout",
     "output_type": "stream",
     "text": [
      "search: \u001b[0m\u001b[1mT\u001b[22m\u001b[0m\u001b[1my\u001b[22m\u001b[0m\u001b[1mp\u001b[22m\u001b[0m\u001b[1me\u001b[22m \u001b[0m\u001b[1mt\u001b[22m\u001b[0m\u001b[1my\u001b[22m\u001b[0m\u001b[1mp\u001b[22m\u001b[0m\u001b[1me\u001b[22mof \u001b[0m\u001b[1mT\u001b[22m\u001b[0m\u001b[1my\u001b[22m\u001b[0m\u001b[1mp\u001b[22m\u001b[0m\u001b[1me\u001b[22mVar \u001b[0m\u001b[1mt\u001b[22m\u001b[0m\u001b[1my\u001b[22m\u001b[0m\u001b[1mp\u001b[22m\u001b[0m\u001b[1me\u001b[22mmin \u001b[0m\u001b[1mt\u001b[22m\u001b[0m\u001b[1my\u001b[22m\u001b[0m\u001b[1mp\u001b[22m\u001b[0m\u001b[1me\u001b[22mmax \u001b[0m\u001b[1mT\u001b[22m\u001b[0m\u001b[1my\u001b[22m\u001b[0m\u001b[1mp\u001b[22m\u001b[0m\u001b[1me\u001b[22mError \u001b[0m\u001b[1mt\u001b[22m\u001b[0m\u001b[1my\u001b[22m\u001b[0m\u001b[1mp\u001b[22m\u001b[0m\u001b[1me\u001b[22mjoin \u001b[0m\u001b[1mt\u001b[22m\u001b[0m\u001b[1my\u001b[22m\u001b[0m\u001b[1mp\u001b[22m\u001b[0m\u001b[1me\u001b[22massert\n",
      "\n"
     ]
    },
    {
     "data": {
      "text/latex": [
       "No documentation found.\n",
       "\n",
       "\\texttt{Core.Type} is of type \\texttt{UnionAll}.\n",
       "\n",
       "\\section{Summary}\n",
       "\\begin{verbatim}\n",
       "struct UnionAll <: Type{T}\n",
       "\\end{verbatim}\n",
       "\\section{Fields}\n",
       "\\begin{verbatim}\n",
       "var  :: TypeVar\n",
       "body :: Any\n",
       "\\end{verbatim}\n",
       "\\section{Supertype Hierarchy}\n",
       "\\begin{verbatim}\n",
       "UnionAll <: Type{T} <: Any\n",
       "\\end{verbatim}\n"
      ],
      "text/markdown": [
       "No documentation found.\n",
       "\n",
       "`Core.Type` is of type `UnionAll`.\n",
       "\n",
       "# Summary\n",
       "\n",
       "```\n",
       "struct UnionAll <: Type{T}\n",
       "```\n",
       "\n",
       "# Fields\n",
       "\n",
       "```\n",
       "var  :: TypeVar\n",
       "body :: Any\n",
       "```\n",
       "\n",
       "# Supertype Hierarchy\n",
       "\n",
       "```\n",
       "UnionAll <: Type{T} <: Any\n",
       "```\n"
      ],
      "text/plain": [
       "  No documentation found.\n",
       "\n",
       "  \u001b[36mCore.Type\u001b[39m is of type \u001b[36mUnionAll\u001b[39m.\n",
       "\n",
       "\u001b[1m  Summary\u001b[22m\n",
       "\u001b[1m  ≡≡≡≡≡≡≡≡≡\u001b[22m\n",
       "\n",
       "\u001b[36m  struct UnionAll <: Type{T}\u001b[39m\n",
       "\n",
       "\u001b[1m  Fields\u001b[22m\n",
       "\u001b[1m  ≡≡≡≡≡≡≡≡\u001b[22m\n",
       "\n",
       "\u001b[36m  var  :: TypeVar\u001b[39m\n",
       "\u001b[36m  body :: Any\u001b[39m\n",
       "\n",
       "\u001b[1m  Supertype Hierarchy\u001b[22m\n",
       "\u001b[1m  ≡≡≡≡≡≡≡≡≡≡≡≡≡≡≡≡≡≡≡≡≡\u001b[22m\n",
       "\n",
       "\u001b[36m  UnionAll <: Type{T} <: Any\u001b[39m"
      ]
     },
     "execution_count": 2,
     "metadata": {},
     "output_type": "execute_result"
    }
   ],
   "source": [
    "?Type"
   ]
  },
  {
   "cell_type": "code",
   "execution_count": 3,
   "metadata": {},
   "outputs": [
    {
     "ename": "UndefVarError",
     "evalue": "UndefVarError: TYPE not defined",
     "output_type": "error",
     "traceback": [
      "UndefVarError: TYPE not defined",
      "",
      "Stacktrace:",
      " [1] top-level scope at In[3]:1"
     ]
    }
   ],
   "source": [
    "TYPE"
   ]
  },
  {
   "cell_type": "code",
   "execution_count": 4,
   "metadata": {},
   "outputs": [
    {
     "name": "stderr",
     "output_type": "stream",
     "text": [
      "┌ Info: Precompiling Catlab [134e5e36-593f-5add-ad60-77f754baafbe]\n",
      "└ @ Base loading.jl:1242\n"
     ]
    }
   ],
   "source": [
    "using Catlab"
   ]
  },
  {
   "cell_type": "code",
   "execution_count": 40,
   "metadata": {},
   "outputs": [
    {
     "data": {
      "text/plain": [
       "quote\n",
       "    #= In[40]:1 =#\n",
       "    begin\n",
       "        eval(Catlab.GAT.signature_code(Catlab.GAT.Typeclass(:MyCategory, Symbol[:Ob, :Hom], Catlab.GAT.Signature(Catlab.GAT.TypeConstructor[Catlab.GAT.TypeConstructor(:Ob, Symbol[], OrderedCollections.OrderedDict{Symbol,Union{Expr, Symbol}}(), nothing), Catlab.GAT.TypeConstructor(:Hom, Symbol[:dom, :codom], OrderedCollections.OrderedDict{Symbol,Union{Expr, Symbol}}(:dom => :Ob,:codom => :Ob), nothing)], Catlab.GAT.TermConstructor[Catlab.GAT.TermConstructor(:id, Symbol[:A], :(Hom(A, A)), OrderedCollections.OrderedDict{Symbol,Union{Expr, Symbol}}(:A => :Ob), nothing), Catlab.GAT.TermConstructor(:compose, Symbol[:f, :g], :(Hom(A, C)), OrderedCollections.OrderedDict{Symbol,Union{Expr, Symbol}}(:A => :Ob,:B => :Ob,:C => :Ob,:f => :(Hom(A, B)),:g => :(Hom(B, C))), nothing)]), Catlab.Meta.JuliaFunction[]), nothing, Any[]))\n",
       "        begin\n",
       "            $(Expr(:meta, :doc))\n",
       "            MyCategory\n",
       "        end\n",
       "    end\n",
       "end"
      ]
     },
     "execution_count": 40,
     "metadata": {},
     "output_type": "execute_result"
    }
   ],
   "source": [
    "macroexpand(Main,quote  @signature MyCategory(Ob,Hom) begin\n",
    "  Ob::TYPE\n",
    "  Hom(dom::Ob, codom::Ob)::TYPE\n",
    "\n",
    "  id(A::Ob)::Hom(A,A)\n",
    "  compose(f::Hom(A,B), g::Hom(B,C))::Hom(A,C) <= (A::Ob, B::Ob, C::Ob)\n",
    "            end end)"
   ]
  },
  {
   "cell_type": "code",
   "execution_count": 19,
   "metadata": {},
   "outputs": [
    {
     "data": {
      "text/plain": [
       "quote\n",
       "    #= In[19]:4 =#\n",
       "    begin\n",
       "        eval(Catlab.GAT.instance_code(MyCategory, Symbol[:MyBoy, :Int64], Catlab.Meta.JuliaFunction[Catlab.Meta.JuliaFunction(:(dom(x)), nothing, quote\n",
       "    #= In[19]:5 =#\n",
       "    MyBoy()\n",
       "end, nothing), Catlab.Meta.JuliaFunction(:(codom(x)), nothing, quote\n",
       "    #= In[19]:6 =#\n",
       "    MyBoy()\n",
       "end, nothing), Catlab.Meta.JuliaFunction(:(id(mahboy)), nothing, quote\n",
       "    #= In[19]:7 =#\n",
       "    0\n",
       "end, nothing), Catlab.Meta.JuliaFunction(:(compose(x, y)), nothing, quote\n",
       "    #= In[19]:8 =#\n",
       "    x = y\n",
       "end, nothing)]))\n",
       "        begin\n",
       "            $(Expr(:meta, :doc))\n",
       "            abstract type ##instance_doc#373 end\n",
       "        end\n",
       "    end\n",
       "end"
      ]
     },
     "execution_count": 19,
     "metadata": {},
     "output_type": "execute_result"
    }
   ],
   "source": [
    "struct MyBoy\n",
    "end\n",
    "macroexpand( Main, quote\n",
    "@instance MyCategory(MyBoy, Int64) begin\n",
    "    dom(x) = MyBoy()\n",
    "    codom(x) = MyBoy()\n",
    "    id(mahboy) = 0\n",
    "    compose(x,y) = x = y\n",
    "end\n",
    "        end)"
   ]
  },
  {
   "cell_type": "code",
   "execution_count": 17,
   "metadata": {},
   "outputs": [
    {
     "data": {
      "text/plain": [
       "MyBoy"
      ]
     },
     "execution_count": 17,
     "metadata": {},
     "output_type": "execute_result"
    }
   ],
   "source": [
    "typeof(MyBoy())"
   ]
  },
  {
   "cell_type": "code",
   "execution_count": 21,
   "metadata": {},
   "outputs": [
    {
     "name": "stderr",
     "output_type": "stream",
     "text": [
      "┌ Info: Precompiling Polyhedra [67491407-f73d-577b-9b50-8179a7c68029]\n",
      "└ @ Base loading.jl:1242\n"
     ]
    }
   ],
   "source": [
    "using Polyhedra"
   ]
  },
  {
   "cell_type": "code",
   "execution_count": 22,
   "metadata": {},
   "outputs": [
    {
     "data": {
      "text/plain": [
       "V-representation Polyhedra.RaysHull{Int64,Array{Int64,1},Int64}:\n",
       "2-element iterator of Ray{Int64,Array{Int64,1}}:\n",
       " Ray([1, 0])\n",
       " Ray([0, 1])"
      ]
     },
     "execution_count": 22,
     "metadata": {},
     "output_type": "execute_result"
    }
   ],
   "source": [
    "conichull([1,0],[0,1])"
   ]
  },
  {
   "cell_type": "code",
   "execution_count": 23,
   "metadata": {},
   "outputs": [
    {
     "data": {
      "text/plain": [
       "V-representation LinesHull{Int64,Array{Int64,1},Int64}:\n",
       "2-element iterator of Line{Int64,Array{Int64,1}}:\n",
       " Line([1, 0])\n",
       " Line([0, 1])"
      ]
     },
     "execution_count": 23,
     "metadata": {},
     "output_type": "execute_result"
    }
   ],
   "source": [
    "conichull(Line([1, 0]), Line([0, 1])) # full space"
   ]
  },
  {
   "cell_type": "code",
   "execution_count": 34,
   "metadata": {},
   "outputs": [
    {
     "data": {
      "text/plain": [
       "2-element Array{Line{Int64,Array{Int64,1}},1}:\n",
       " Line([1, 0])\n",
       " Line([0, 1])"
      ]
     },
     "execution_count": 34,
     "metadata": {},
     "output_type": "execute_result"
    }
   ],
   "source": [
    "[ Line(convert(Array,col)) for col in  eachcol([1 0 ; 0 1])]"
   ]
  },
  {
   "cell_type": "code",
   "execution_count": 36,
   "metadata": {},
   "outputs": [],
   "source": [
    "using LinearAlgebra"
   ]
  },
  {
   "cell_type": "code",
   "execution_count": 39,
   "metadata": {},
   "outputs": [
    {
     "data": {
      "text/plain": [
       "V-representation LinesHull{Bool,Array{Bool,1},Int64}:\n",
       "3-element iterator of Line{Bool,Array{Bool,1}}:\n",
       " Line(Bool[1, 0, 0, 1, 0, 0])\n",
       " Line(Bool[0, 1, 0, 0, 1, 0])\n",
       " Line(Bool[0, 0, 1, 0, 0, 1])"
      ]
     },
     "execution_count": 39,
     "metadata": {},
     "output_type": "execute_result"
    }
   ],
   "source": [
    "n = 3\n",
    "vrep([ Line(convert(Array,col)) for col in  eachcol([ Matrix(I, n,n) ; Matrix(I,n,n)])  ])"
   ]
  },
  {
   "cell_type": "code",
   "execution_count": 33,
   "metadata": {},
   "outputs": [
    {
     "data": {
      "text/plain": [
       "1×2 Array{Int64,2}:\n",
       " 1  2"
      ]
     },
     "execution_count": 33,
     "metadata": {},
     "output_type": "execute_result"
    }
   ],
   "source": [
    "[1 2]"
   ]
  },
  {
   "cell_type": "code",
   "execution_count": 32,
   "metadata": {},
   "outputs": [
    {
     "name": "stdout",
     "output_type": "stream",
     "text": [
      "search: \u001b[0m\u001b[1mL\u001b[22m\u001b[0m\u001b[1mi\u001b[22m\u001b[0m\u001b[1mn\u001b[22m\u001b[0m\u001b[1me\u001b[22m \u001b[0m\u001b[1ml\u001b[22m\u001b[0m\u001b[1mi\u001b[22m\u001b[0m\u001b[1mn\u001b[22m\u001b[0m\u001b[1me\u001b[22ms \u001b[0m\u001b[1ml\u001b[22m\u001b[0m\u001b[1mi\u001b[22m\u001b[0m\u001b[1mn\u001b[22m\u001b[0m\u001b[1me\u001b[22mtype \u001b[0m\u001b[1mL\u001b[22m\u001b[0m\u001b[1mi\u001b[22m\u001b[0m\u001b[1mn\u001b[22m\u001b[0m\u001b[1me\u001b[22msHull \u001b[0m\u001b[1ml\u001b[22m\u001b[0m\u001b[1mi\u001b[22m\u001b[0m\u001b[1mn\u001b[22m\u001b[0m\u001b[1me\u001b[22mspace \u001b[0m\u001b[1mL\u001b[22m\u001b[0m\u001b[1mi\u001b[22m\u001b[0m\u001b[1mn\u001b[22m\u001b[0m\u001b[1me\u001b[22marIndices \u001b[0m\u001b[1mL\u001b[22m\u001b[0m\u001b[1mi\u001b[22m\u001b[0m\u001b[1mn\u001b[22m\u001b[0m\u001b[1me\u001b[22mNumberNode\n",
      "\n"
     ]
    },
    {
     "data": {
      "text/latex": [
       "\\begin{verbatim}\n",
       "struct Line{T, AT <: AbstractVector{T}}\n",
       "    a::AT\n",
       "end\n",
       "\\end{verbatim}\n",
       "The conic hull of \\texttt{a} and \\texttt{-a}, i.e. the set of points \\texttt{λa} where \\texttt{λ} is any real number.\n",
       "\n"
      ],
      "text/markdown": [
       "```\n",
       "struct Line{T, AT <: AbstractVector{T}}\n",
       "    a::AT\n",
       "end\n",
       "```\n",
       "\n",
       "The conic hull of `a` and `-a`, i.e. the set of points `λa` where `λ` is any real number.\n"
      ],
      "text/plain": [
       "\u001b[36m  struct Line{T, AT <: AbstractVector{T}}\u001b[39m\n",
       "\u001b[36m      a::AT\u001b[39m\n",
       "\u001b[36m  end\u001b[39m\n",
       "\n",
       "  The conic hull of \u001b[36ma\u001b[39m and \u001b[36m-a\u001b[39m, i.e. the set of points \u001b[36mλa\u001b[39m where \u001b[36mλ\u001b[39m is any real\n",
       "  number."
      ]
     },
     "execution_count": 32,
     "metadata": {},
     "output_type": "execute_result"
    }
   ],
   "source": [
    "?Line"
   ]
  },
  {
   "cell_type": "code",
   "execution_count": 42,
   "metadata": {},
   "outputs": [
    {
     "name": "stdout",
     "output_type": "stream",
     "text": [
      "\"\u001b[36m∘\u001b[39m\" can be typed by \u001b[36m\\circ<tab>\u001b[39m\n",
      "\n",
      "search: \u001b[0m\u001b[1m∘\u001b[22m\n",
      "\n"
     ]
    },
    {
     "data": {
      "text/latex": [
       "\\begin{verbatim}\n",
       "f ∘ g\n",
       "\\end{verbatim}\n",
       "Compose functions: i.e. \\texttt{(f ∘ g)(args...)} means \\texttt{f(g(args...))}. The \\texttt{∘} symbol can be entered in the Julia REPL (and most editors, appropriately configured) by typing \\texttt{{\\textbackslash}circ<tab>}.\n",
       "\n",
       "\\section{Examples}\n",
       "\\begin{verbatim}\n",
       "julia> map(uppercase∘first, [\"apple\", \"banana\", \"carrot\"])\n",
       "3-element Array{Char,1}:\n",
       " 'A'\n",
       " 'B'\n",
       " 'C'\n",
       "\\end{verbatim}\n"
      ],
      "text/markdown": [
       "```\n",
       "f ∘ g\n",
       "```\n",
       "\n",
       "Compose functions: i.e. `(f ∘ g)(args...)` means `f(g(args...))`. The `∘` symbol can be entered in the Julia REPL (and most editors, appropriately configured) by typing `\\circ<tab>`.\n",
       "\n",
       "# Examples\n",
       "\n",
       "```jldoctest\n",
       "julia> map(uppercase∘first, [\"apple\", \"banana\", \"carrot\"])\n",
       "3-element Array{Char,1}:\n",
       " 'A'\n",
       " 'B'\n",
       " 'C'\n",
       "```\n"
      ],
      "text/plain": [
       "\u001b[36m  f ∘ g\u001b[39m\n",
       "\n",
       "  Compose functions: i.e. \u001b[36m(f ∘ g)(args...)\u001b[39m means \u001b[36mf(g(args...))\u001b[39m. The \u001b[36m∘\u001b[39m symbol\n",
       "  can be entered in the Julia REPL (and most editors, appropriately\n",
       "  configured) by typing \u001b[36m\\circ<tab>\u001b[39m.\n",
       "\n",
       "\u001b[1m  Examples\u001b[22m\n",
       "\u001b[1m  ≡≡≡≡≡≡≡≡≡≡\u001b[22m\n",
       "\n",
       "\u001b[36m  julia> map(uppercase∘first, [\"apple\", \"banana\", \"carrot\"])\u001b[39m\n",
       "\u001b[36m  3-element Array{Char,1}:\u001b[39m\n",
       "\u001b[36m   'A'\u001b[39m\n",
       "\u001b[36m   'B'\u001b[39m\n",
       "\u001b[36m   'C'\u001b[39m"
      ]
     },
     "execution_count": 42,
     "metadata": {},
     "output_type": "execute_result"
    }
   ],
   "source": [
    "?∘"
   ]
  },
  {
   "cell_type": "code",
   "execution_count": 47,
   "metadata": {},
   "outputs": [
    {
     "ename": "UndefVarError",
     "evalue": "UndefVarError: Iterator not defined",
     "output_type": "error",
     "traceback": [
      "UndefVarError: Iterator not defined",
      "",
      "Stacktrace:",
      " [1] top-level scope at In[47]:1"
     ]
    }
   ],
   "source": [
    "Iterator(Bool)"
   ]
  },
  {
   "cell_type": "code",
   "execution_count": 50,
   "metadata": {},
   "outputs": [
    {
     "name": "stdout",
     "output_type": "stream",
     "text": [
      "search: \u001b[0m\u001b[1mB\u001b[22m\u001b[0m\u001b[1mo\u001b[22m\u001b[0m\u001b[1mo\u001b[22m\u001b[0m\u001b[1ml\u001b[22m \u001b[0m\u001b[1mB\u001b[22m\u001b[0m\u001b[1mo\u001b[22mundsErr\u001b[0m\u001b[1mo\u001b[22mr \u001b[0m\u001b[1mB\u001b[22ml\u001b[0m\u001b[1mo\u001b[22mckEliminati\u001b[0m\u001b[1mo\u001b[22mn A\u001b[0m\u001b[1mb\u001b[22mstractP\u001b[0m\u001b[1mo\u001b[22mlyhedra\u001b[0m\u001b[1mO\u001b[22mptimizer\n",
      "\n"
     ]
    },
    {
     "data": {
      "text/latex": [
       "\\begin{verbatim}\n",
       "Bool <: Integer\n",
       "\\end{verbatim}\n",
       "Boolean type, containing the values \\texttt{true} and \\texttt{false}.\n",
       "\n"
      ],
      "text/markdown": [
       "```\n",
       "Bool <: Integer\n",
       "```\n",
       "\n",
       "Boolean type, containing the values `true` and `false`.\n"
      ],
      "text/plain": [
       "\u001b[36m  Bool <: Integer\u001b[39m\n",
       "\n",
       "  Boolean type, containing the values \u001b[36mtrue\u001b[39m and \u001b[36mfalse\u001b[39m."
      ]
     },
     "execution_count": 50,
     "metadata": {},
     "output_type": "execute_result"
    }
   ],
   "source": [
    "?Bool"
   ]
  },
  {
   "cell_type": "code",
   "execution_count": 51,
   "metadata": {},
   "outputs": [
    {
     "name": "stdout",
     "output_type": "stream",
     "text": [
      "search: \u001b[0m\u001b[1mi\u001b[22m\u001b[0m\u001b[1mt\u001b[22m\u001b[0m\u001b[1me\u001b[22m\u001b[0m\u001b[1mr\u001b[22m\u001b[0m\u001b[1ma\u001b[22m\u001b[0m\u001b[1mt\u001b[22m\u001b[0m\u001b[1me\u001b[22m \u001b[0m\u001b[1mI\u001b[22mn\u001b[0m\u001b[1mt\u001b[22m\u001b[0m\u001b[1me\u001b[22m\u001b[0m\u001b[1mr\u001b[22m\u001b[0m\u001b[1ma\u001b[22mc\u001b[0m\u001b[1mt\u001b[22miv\u001b[0m\u001b[1me\u001b[22mUtils \u001b[0m\u001b[1mi\u001b[22msin\u001b[0m\u001b[1mt\u001b[22m\u001b[0m\u001b[1me\u001b[22m\u001b[0m\u001b[1mr\u001b[22m\u001b[0m\u001b[1ma\u001b[22mc\u001b[0m\u001b[1mt\u001b[22miv\u001b[0m\u001b[1me\u001b[22m \u001b[0m\u001b[1mI\u001b[22m\u001b[0m\u001b[1mt\u001b[22m\u001b[0m\u001b[1me\u001b[22m\u001b[0m\u001b[1mr\u001b[22m\u001b[0m\u001b[1ma\u001b[22m\u001b[0m\u001b[1mt\u001b[22mors Rep\u001b[0m\u001b[1mI\u001b[22m\u001b[0m\u001b[1mt\u001b[22m\u001b[0m\u001b[1me\u001b[22m\u001b[0m\u001b[1mr\u001b[22m\u001b[0m\u001b[1ma\u001b[22m\u001b[0m\u001b[1mt\u001b[22mor\n",
      "\n"
     ]
    },
    {
     "data": {
      "text/latex": [
       "\\begin{verbatim}\n",
       "iterate(iter [, state]) -> Union{Nothing, Tuple{Any, Any}}\n",
       "\\end{verbatim}\n",
       "Advance the iterator to obtain the next element. If no elements remain, \\texttt{nothing} should be returned. Otherwise, a 2-tuple of the next element and the new iteration state should be returned.\n",
       "\n",
       "\\rule{\\textwidth}{1pt}\n",
       "\\begin{verbatim}\n",
       "iterate(s::AbstractString, i::Integer) -> Union{Tuple{<:AbstractChar, Int}, Nothing}\n",
       "\\end{verbatim}\n",
       "Return a tuple of the character in \\texttt{s} at index \\texttt{i} with the index of the start of the following character in \\texttt{s}. This is the key method that allows strings to be iterated, yielding a sequences of characters. If \\texttt{i} is out of bounds in \\texttt{s} then a bounds error is raised. The \\texttt{iterate} function, as part of the iteration protocol may assume that \\texttt{i} is the start of a character in \\texttt{s}.\n",
       "\n",
       "See also: \\href{@ref}{\\texttt{getindex}}, \\href{@ref}{\\texttt{checkbounds}}\n",
       "\n"
      ],
      "text/markdown": [
       "```\n",
       "iterate(iter [, state]) -> Union{Nothing, Tuple{Any, Any}}\n",
       "```\n",
       "\n",
       "Advance the iterator to obtain the next element. If no elements remain, `nothing` should be returned. Otherwise, a 2-tuple of the next element and the new iteration state should be returned.\n",
       "\n",
       "---\n",
       "\n",
       "```\n",
       "iterate(s::AbstractString, i::Integer) -> Union{Tuple{<:AbstractChar, Int}, Nothing}\n",
       "```\n",
       "\n",
       "Return a tuple of the character in `s` at index `i` with the index of the start of the following character in `s`. This is the key method that allows strings to be iterated, yielding a sequences of characters. If `i` is out of bounds in `s` then a bounds error is raised. The `iterate` function, as part of the iteration protocol may assume that `i` is the start of a character in `s`.\n",
       "\n",
       "See also: [`getindex`](@ref), [`checkbounds`](@ref)\n"
      ],
      "text/plain": [
       "\u001b[36m  iterate(iter [, state]) -> Union{Nothing, Tuple{Any, Any}}\u001b[39m\n",
       "\n",
       "  Advance the iterator to obtain the next element. If no elements remain,\n",
       "  \u001b[36mnothing\u001b[39m should be returned. Otherwise, a 2-tuple of the next element and the\n",
       "  new iteration state should be returned.\n",
       "\n",
       "  ────────────────────────────────────────────────────────────────────────────\n",
       "\n",
       "\u001b[36m  iterate(s::AbstractString, i::Integer) -> Union{Tuple{<:AbstractChar, Int}, Nothing}\u001b[39m\n",
       "\n",
       "  Return a tuple of the character in \u001b[36ms\u001b[39m at index \u001b[36mi\u001b[39m with the index of the start\n",
       "  of the following character in \u001b[36ms\u001b[39m. This is the key method that allows strings\n",
       "  to be iterated, yielding a sequences of characters. If \u001b[36mi\u001b[39m is out of bounds in\n",
       "  \u001b[36ms\u001b[39m then a bounds error is raised. The \u001b[36miterate\u001b[39m function, as part of the\n",
       "  iteration protocol may assume that \u001b[36mi\u001b[39m is the start of a character in \u001b[36ms\u001b[39m.\n",
       "\n",
       "  See also: \u001b[36mgetindex\u001b[39m, \u001b[36mcheckbounds\u001b[39m"
      ]
     },
     "execution_count": 51,
     "metadata": {},
     "output_type": "execute_result"
    }
   ],
   "source": [
    "?iterate"
   ]
  },
  {
   "cell_type": "code",
   "execution_count": 55,
   "metadata": {},
   "outputs": [
    {
     "data": {
      "text/plain": [
       "Base.HasShape{0}()"
      ]
     },
     "execution_count": 55,
     "metadata": {},
     "output_type": "execute_result"
    }
   ],
   "source": [
    "Base.IteratorSize(Bool)"
   ]
  },
  {
   "cell_type": "code",
   "execution_count": 56,
   "metadata": {},
   "outputs": [
    {
     "data": {
      "text/plain": [
       "f (generic function with 2 methods)"
      ]
     },
     "execution_count": 56,
     "metadata": {},
     "output_type": "execute_result"
    }
   ],
   "source": [
    "f(x::Bool) = 7\n",
    "f(x::Integer) = 8"
   ]
  },
  {
   "cell_type": "code",
   "execution_count": 57,
   "metadata": {},
   "outputs": [
    {
     "data": {
      "text/plain": [
       "7"
      ]
     },
     "execution_count": 57,
     "metadata": {},
     "output_type": "execute_result"
    }
   ],
   "source": [
    "f(true)"
   ]
  },
  {
   "cell_type": "code",
   "execution_count": 59,
   "metadata": {},
   "outputs": [
    {
     "data": {
      "text/plain": [
       "false"
      ]
     },
     "execution_count": 59,
     "metadata": {},
     "output_type": "execute_result"
    }
   ],
   "source": [
    "typemin(Bool)"
   ]
  },
  {
   "cell_type": "code",
   "execution_count": 60,
   "metadata": {},
   "outputs": [
    {
     "data": {
      "text/plain": [
       "true"
      ]
     },
     "execution_count": 60,
     "metadata": {},
     "output_type": "execute_result"
    }
   ],
   "source": [
    "typemax(Bool)"
   ]
  },
  {
   "cell_type": "code",
   "execution_count": 61,
   "metadata": {},
   "outputs": [
    {
     "ename": "UndefVarError",
     "evalue": "UndefVarError: next not defined",
     "output_type": "error",
     "traceback": [
      "UndefVarError: next not defined",
      "",
      "Stacktrace:",
      " [1] top-level scope at In[61]:1"
     ]
    }
   ],
   "source": [
    "next(false)"
   ]
  },
  {
   "cell_type": "code",
   "execution_count": 66,
   "metadata": {},
   "outputs": [
    {
     "name": "stdout",
     "output_type": "stream",
     "text": [
      "falsetrue"
     ]
    },
    {
     "data": {
      "text/plain": [
       "2-element Array{Nothing,1}:\n",
       " nothing\n",
       " nothing"
      ]
     },
     "execution_count": 66,
     "metadata": {},
     "output_type": "execute_result"
    }
   ],
   "source": [
    "[print(x) for x in false:true]"
   ]
  },
  {
   "cell_type": "code",
   "execution_count": 67,
   "metadata": {},
   "outputs": [
    {
     "ename": "MethodError",
     "evalue": "MethodError: no method matching typemin(::Type{Tuple{Bool,Bool}})\nClosest candidates are:\n  typemin(!Matched::Type{Bool}) at bool.jl:6\n  typemin(!Matched::Type{Int8}) at int.jl:665\n  typemin(!Matched::Type{UInt8}) at int.jl:667\n  ...",
     "output_type": "error",
     "traceback": [
      "MethodError: no method matching typemin(::Type{Tuple{Bool,Bool}})\nClosest candidates are:\n  typemin(!Matched::Type{Bool}) at bool.jl:6\n  typemin(!Matched::Type{Int8}) at int.jl:665\n  typemin(!Matched::Type{UInt8}) at int.jl:667\n  ...",
      "",
      "Stacktrace:",
      " [1] top-level scope at In[67]:1"
     ]
    }
   ],
   "source": [
    "typemin(Tuple{Bool,Bool})"
   ]
  },
  {
   "cell_type": "code",
   "execution_count": 68,
   "metadata": {},
   "outputs": [
    {
     "data": {
      "text/plain": [
       "Tuple{Bool,Bool}"
      ]
     },
     "execution_count": 68,
     "metadata": {},
     "output_type": "execute_result"
    }
   ],
   "source": [
    "Tuple{Bool,Bool}"
   ]
  },
  {
   "cell_type": "code",
   "execution_count": 69,
   "metadata": {},
   "outputs": [
    {
     "ename": "MethodError",
     "evalue": "MethodError: no method matching size(::Type{Bool})\nClosest candidates are:\n  size(!Matched::BitArray{1}) at bitarray.jl:77\n  size(!Matched::BitArray{1}, !Matched::Integer) at bitarray.jl:81\n  size(!Matched::Core.Compiler.StmtRange) at show.jl:1585\n  ...",
     "output_type": "error",
     "traceback": [
      "MethodError: no method matching size(::Type{Bool})\nClosest candidates are:\n  size(!Matched::BitArray{1}) at bitarray.jl:77\n  size(!Matched::BitArray{1}, !Matched::Integer) at bitarray.jl:81\n  size(!Matched::Core.Compiler.StmtRange) at show.jl:1585\n  ...",
      "",
      "Stacktrace:",
      " [1] top-level scope at In[69]:1"
     ]
    }
   ],
   "source": [
    "size(Bool)"
   ]
  },
  {
   "cell_type": "code",
   "execution_count": 70,
   "metadata": {},
   "outputs": [
    {
     "ename": "UndefVarError",
     "evalue": "UndefVarError: card not defined",
     "output_type": "error",
     "traceback": [
      "UndefVarError: card not defined",
      "",
      "Stacktrace:",
      " [1] top-level scope at In[70]:1"
     ]
    }
   ],
   "source": [
    "card(Bool)"
   ]
  },
  {
   "cell_type": "code",
   "execution_count": 71,
   "metadata": {},
   "outputs": [
    {
     "data": {
      "text/plain": [
       "1-element Array{Tuple{Symbol,Int64},1}:\n",
       " (:Bool, 2)"
      ]
     },
     "execution_count": 71,
     "metadata": {},
     "output_type": "execute_result"
    }
   ],
   "source": [
    "[(:Bool, 2)]"
   ]
  },
  {
   "cell_type": "code",
   "execution_count": 72,
   "metadata": {},
   "outputs": [
    {
     "data": {
      "text/plain": [
       "(:Bool, :Bool)"
      ]
     },
     "execution_count": 72,
     "metadata": {},
     "output_type": "execute_result"
    }
   ],
   "source": [
    "(:Bool,:Bool)"
   ]
  },
  {
   "cell_type": "code",
   "execution_count": 73,
   "metadata": {},
   "outputs": [
    {
     "data": {
      "text/plain": [
       "Test(Tuple{Bool,Bool})"
      ]
     },
     "execution_count": 73,
     "metadata": {},
     "output_type": "execute_result"
    }
   ],
   "source": [
    "struct Test\n",
    "    x :: Type\n",
    "end\n",
    "\n",
    "Test(Tuple{Bool,Bool})"
   ]
  },
  {
   "cell_type": "code",
   "execution_count": null,
   "metadata": {},
   "outputs": [],
   "source": [
    "function card(x)\n",
    "    if x == Tuple{}\n",
    "\n",
    "end"
   ]
  },
  {
   "cell_type": "code",
   "execution_count": null,
   "metadata": {},
   "outputs": [],
   "source": [
    "struct HRep{n,m,T}\n",
    "    A :: AbstractArray{T}\n",
    "end"
   ]
  },
  {
   "cell_type": "code",
   "execution_count": 74,
   "metadata": {},
   "outputs": [
    {
     "data": {
      "text/plain": [
       "AbstractArray{Float64,3}"
      ]
     },
     "execution_count": 74,
     "metadata": {},
     "output_type": "execute_result"
    }
   ],
   "source": [
    "AbstractArray{Float64, 3}"
   ]
  },
  {
   "cell_type": "code",
   "execution_count": 78,
   "metadata": {},
   "outputs": [
    {
     "data": {
      "text/plain": [
       "3-element Array{Int64,1}:\n",
       " 1\n",
       " 2\n",
       " 3"
      ]
     },
     "execution_count": 78,
     "metadata": {},
     "output_type": "execute_result"
    }
   ],
   "source": [
    "[1  ; 2  ; 3]"
   ]
  },
  {
   "cell_type": "code",
   "execution_count": 79,
   "metadata": {},
   "outputs": [
    {
     "data": {
      "text/plain": [
       "Val"
      ]
     },
     "execution_count": 79,
     "metadata": {},
     "output_type": "execute_result"
    }
   ],
   "source": [
    "struct Val{T}\n",
    "end\n",
    "\n",
    "Val(x) = Val{x}()"
   ]
  },
  {
   "cell_type": "code",
   "execution_count": 80,
   "metadata": {},
   "outputs": [
    {
     "data": {
      "text/plain": [
       "Val{true}()"
      ]
     },
     "execution_count": 80,
     "metadata": {},
     "output_type": "execute_result"
    }
   ],
   "source": [
    "Val(true)"
   ]
  },
  {
   "cell_type": "code",
   "execution_count": 81,
   "metadata": {},
   "outputs": [
    {
     "data": {
      "text/plain": [
       "card (generic function with 1 method)"
      ]
     },
     "execution_count": 81,
     "metadata": {},
     "output_type": "execute_result"
    }
   ],
   "source": [
    "card(::Bool) = 2\n"
   ]
  },
  {
   "cell_type": "code",
   "execution_count": 82,
   "metadata": {},
   "outputs": [
    {
     "data": {
      "text/plain": [
       "2"
      ]
     },
     "execution_count": 82,
     "metadata": {},
     "output_type": "execute_result"
    }
   ],
   "source": [
    "card(true)"
   ]
  },
  {
   "cell_type": "code",
   "execution_count": 83,
   "metadata": {},
   "outputs": [
    {
     "ename": "UndefVarError",
     "evalue": "UndefVarError: T not defined",
     "output_type": "error",
     "traceback": [
      "UndefVarError: T not defined",
      "",
      "Stacktrace:",
      " [1] top-level scope at In[83]:1"
     ]
    }
   ],
   "source": [
    "card(::Tuple{T,S}) = card(typemin(T), typemin(S))"
   ]
  },
  {
   "cell_type": "code",
   "execution_count": 90,
   "metadata": {},
   "outputs": [],
   "source": [
    "#I = (:I, 1)\n",
    "#V = (:V, 1)\n",
    "#IV = (I,V)\n",
    "struct PrimTyp\n",
    "    sym :: Symbol\n",
    "    card :: Int64\n",
    "end"
   ]
  },
  {
   "cell_type": "code",
   "execution_count": 108,
   "metadata": {},
   "outputs": [
    {
     "data": {
      "text/plain": [
       "card (generic function with 4 methods)"
      ]
     },
     "execution_count": 108,
     "metadata": {},
     "output_type": "execute_result"
    }
   ],
   "source": [
    "card( x::Tuple ) = card(x[1]) + card(x[2])\n",
    "card(x :: PrimType) = x.card\n",
    "card(x :: PrimTyp) = x.card"
   ]
  },
  {
   "cell_type": "code",
   "execution_count": 111,
   "metadata": {},
   "outputs": [],
   "source": [
    "struct VRep2{T,Dom,Cod}\n",
    "    dom :: Dom\n",
    "    cod :: Cod\n",
    "    data :: AbstractArray{T}\n",
    "end"
   ]
  },
  {
   "cell_type": "code",
   "execution_count": null,
   "metadata": {},
   "outputs": [],
   "source": []
  },
  {
   "cell_type": "code",
   "execution_count": 95,
   "metadata": {},
   "outputs": [
    {
     "data": {
      "text/plain": [
       "PrimTyp(:I, 1)"
      ]
     },
     "execution_count": 95,
     "metadata": {},
     "output_type": "execute_result"
    }
   ],
   "source": [
    "i = PrimTyp(:I, 1)"
   ]
  },
  {
   "cell_type": "code",
   "execution_count": 110,
   "metadata": {},
   "outputs": [
    {
     "data": {
      "text/plain": [
       "3"
      ]
     },
     "execution_count": 110,
     "metadata": {},
     "output_type": "execute_result"
    }
   ],
   "source": [
    "card(((i,i), i))"
   ]
  },
  {
   "cell_type": "code",
   "execution_count": 100,
   "metadata": {},
   "outputs": [
    {
     "data": {
      "text/plain": [
       "Tuple{PrimTyp,PrimTyp}"
      ]
     },
     "execution_count": 100,
     "metadata": {},
     "output_type": "execute_result"
    }
   ],
   "source": [
    "typeof((i,i))"
   ]
  },
  {
   "cell_type": "code",
   "execution_count": 105,
   "metadata": {},
   "outputs": [
    {
     "ename": "LoadError",
     "evalue": "syntax: extra token \"0.0\" after end of expression",
     "output_type": "error",
     "traceback": [
      "syntax: extra token \"0.0\" after end of expression",
      ""
     ]
    }
   ],
   "source": [
    "(10,4)"
   ]
  },
  {
   "cell_type": "code",
   "execution_count": null,
   "metadata": {},
   "outputs": [],
   "source": []
  }
 ],
 "metadata": {
  "kernelspec": {
   "display_name": "Julia 1.2.0",
   "language": "julia",
   "name": "julia-1.2"
  },
  "language_info": {
   "file_extension": ".jl",
   "mimetype": "application/julia",
   "name": "julia",
   "version": "1.2.0"
  }
 },
 "nbformat": 4,
 "nbformat_minor": 2
}
