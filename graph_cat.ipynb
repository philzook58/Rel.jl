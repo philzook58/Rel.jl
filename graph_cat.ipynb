{
 "cells": [
  {
   "cell_type": "code",
   "execution_count": 71,
   "metadata": {},
   "outputs": [],
   "source": [
    "import graphviz"
   ]
  },
  {
   "cell_type": "code",
   "execution_count": 105,
   "metadata": {},
   "outputs": [],
   "source": [
    "def fresh(n):\n",
    "    return list([str(random.randint(0,1e9)) for i in range(n)])\n",
    "def idd(n):\n",
    "    def res(g):\n",
    "        nodes = fresh(n)\n",
    "        for node in nodes:\n",
    "            g.node(node, shape=\"point\")\n",
    "        return nodes, nodes\n",
    "    return res\n",
    "def compose(g, f):\n",
    "    def res(G):\n",
    "        a, b = f(G)\n",
    "        b1, c = g(G)\n",
    "        assert(len(b) == len(b1))\n",
    "        G.edges(zip(b,b1))\n",
    "        return a, c\n",
    "    return res\n",
    "def par(f, g): #otimes\n",
    "    def res(G):     \n",
    "        a, b = f(G)\n",
    "        c, d = g(G)\n",
    "        return a + c, b + d\n",
    "    return res\n",
    "'''def fst(n,m):\n",
    "    def res(G):\n",
    "        \n",
    "        a, b\n",
    "    return res\n",
    "'''\n",
    "\n",
    "'''def dump(n, m):\n",
    "    def res(G):\n",
    "        nodes = fresh(n)\n",
    "        for node in nodes:\n",
    "            G.node(node, shape=\"point\")\n",
    "        \n",
    "        return nodes, nodes[:m] + nodes[m+1:]\n",
    "    return res\n",
    "'''\n",
    "\n",
    "def dump():\n",
    "    def res(G):\n",
    "        node = fresh(1)[0]\n",
    "        G.node(node, shape=\"point\", fillcolor=\"white\")\n",
    "        return [node], []\n",
    "    return res\n",
    "def dup():\n",
    "    def res(G):\n",
    "        node = fresh(1)[0]\n",
    "        G.node(node, shape=\"point\")\n",
    "        return [node], [node, node]\n",
    "    return res\n",
    "def converse(f):\n",
    "    def res(G):\n",
    "        a, b = f(G)\n",
    "        return b, a\n",
    "    return res\n"
   ]
  },
  {
   "cell_type": "markdown",
   "metadata": {},
   "source": [
    "It does kind of feel like I'd benefit from an AST. Does sympy have one?\n",
    "I could use a decorator to attach composition and par as operators.\n",
    "Or I could wrap the thing in a class.\n"
   ]
  },
  {
   "cell_type": "code",
   "execution_count": 72,
   "metadata": {},
   "outputs": [
    {
     "ename": "NameError",
     "evalue": "name 'compose' is not defined",
     "output_type": "error",
     "traceback": [
      "\u001b[0;31m---------------------------------------------------------------------------\u001b[0m",
      "\u001b[0;31mNameError\u001b[0m                                 Traceback (most recent call last)",
      "\u001b[0;32m<ipython-input-72-fa055a902c5f>\u001b[0m in \u001b[0;36m<module>\u001b[0;34m\u001b[0m\n\u001b[1;32m      7\u001b[0m \u001b[0;31m#res(dot)\u001b[0m\u001b[0;34m\u001b[0m\u001b[0;34m\u001b[0m\u001b[0;34m\u001b[0m\u001b[0m\n\u001b[1;32m      8\u001b[0m \u001b[0;34m\u001b[0m\u001b[0m\n\u001b[0;32m----> 9\u001b[0;31m \u001b[0mcompose\u001b[0m\u001b[0;34m(\u001b[0m\u001b[0mpar\u001b[0m\u001b[0;34m(\u001b[0m\u001b[0mdump\u001b[0m\u001b[0;34m(\u001b[0m\u001b[0;34m)\u001b[0m\u001b[0;34m,\u001b[0m\u001b[0midd\u001b[0m\u001b[0;34m(\u001b[0m\u001b[0;36m1\u001b[0m\u001b[0;34m)\u001b[0m\u001b[0;34m)\u001b[0m\u001b[0;34m,\u001b[0m \u001b[0mcompose\u001b[0m\u001b[0;34m(\u001b[0m\u001b[0midd\u001b[0m\u001b[0;34m(\u001b[0m\u001b[0;36m2\u001b[0m\u001b[0;34m)\u001b[0m\u001b[0;34m,\u001b[0m\u001b[0mdup\u001b[0m\u001b[0;34m(\u001b[0m\u001b[0;34m)\u001b[0m\u001b[0;34m)\u001b[0m\u001b[0;34m)\u001b[0m\u001b[0;34m(\u001b[0m\u001b[0mdot\u001b[0m\u001b[0;34m)\u001b[0m\u001b[0;34m\u001b[0m\u001b[0;34m\u001b[0m\u001b[0m\n\u001b[0m\u001b[1;32m     10\u001b[0m \u001b[0;34m\u001b[0m\u001b[0m\n\u001b[1;32m     11\u001b[0m \u001b[0mdot\u001b[0m\u001b[0;34m\u001b[0m\u001b[0;34m\u001b[0m\u001b[0m\n",
      "\u001b[0;31mNameError\u001b[0m: name 'compose' is not defined"
     ]
    }
   ],
   "source": [
    "dot = graphviz.Digraph(comment='The Round Table')\n",
    "#compose(idd(3),idd(3))(dot)\n",
    "#z = compose(idd(3),idd(3))\n",
    "#q = par(z,z)\n",
    "#res = compose(q, q)\n",
    "\n",
    "#res(dot)\n",
    "\n",
    "compose(par(dump(),idd(1)), compose(idd(2),dup()))(dot)\n",
    "\n",
    "dot"
   ]
  },
  {
   "cell_type": "code",
   "execution_count": 166,
   "metadata": {},
   "outputs": [],
   "source": [
    "import random\n",
    "import graphviz\n",
    "class GraphCat():\n",
    "    GC = GraphCat\n",
    "    def __init__(self,res): # just hold the graphviz processor function\n",
    "        self.res = res\n",
    "    def fresh(n): # makes random numbers for fresh node labels\n",
    "        return list([str(random.randint(0,1e9)) for i in range(n)])\n",
    "    def idd(): # identity morhism. 1 input 1 output.\n",
    "        def res(g):\n",
    "            #nodes = GC.fresh(n)\n",
    "            node = GC.fresh(1)[0]\n",
    "            #for node in nodes:\n",
    "            g.node(node, shape=\"point\")\n",
    "            return [node], [node]\n",
    "        return GraphCat(res)\n",
    "    def compose(g, f): # compose morphisms. Makes graphviz edges between node labels generated by g and f\n",
    "        f = f.res\n",
    "        g = g.res\n",
    "        def res(G):\n",
    "            a, b = f(G)\n",
    "            b1, c = g(G)\n",
    "            assert(len(b) == len(b1))\n",
    "            G.edges(zip(b,b1))\n",
    "            return a, c\n",
    "        return GraphCat(res)\n",
    "    def par(f, g): #monoidal product. Puts f and g in parallel\n",
    "        f = f.res\n",
    "        g = g.res\n",
    "        def res(G):     \n",
    "            a, b = f(G)\n",
    "            c, d = g(G)\n",
    "            return a + c, b + d\n",
    "        return GraphCat(res)\n",
    "    def dump(): # dump deletes this edge with an empty circle\n",
    "        def res(G):\n",
    "            node = GC.fresh(1)[0]\n",
    "            G.node(node, shape=\"point\", fillcolor=\"white\")\n",
    "            return [node], []\n",
    "        return GraphCat(res)\n",
    "    def dup(): # duplicate this edge\n",
    "        def res(G):\n",
    "            node = GC.fresh(1)[0]\n",
    "            G.node(node, shape=\"point\", fillcolor=\"green\")\n",
    "            return [node], [node, node]\n",
    "        return GraphCat(res)\n",
    "    def converse(f): # turn input to output of this combinator\n",
    "        f = f.res\n",
    "        def res(G):\n",
    "            a, b = f(G)\n",
    "            return b, a\n",
    "        return GraphCat(res)\n",
    "    def named_simple(name): # a simple labeled 1 input 1 output object\n",
    "        def res(G):\n",
    "            node = GC.fresh(1)[0]\n",
    "            G.node(node,name)\n",
    "            return [node], [node]   \n",
    "        return GraphCat(res)\n",
    "    def block(name, inputs, outputs): # an object with labelled ports\n",
    "        inputs_label = [f\"<{inp}> {inp}\" for inp in inputs]\n",
    "        outputs_label = [f\"<{outp}> {outp}\" for outp in outputs]\n",
    "        #return  # use graphviz to build block with label and n ports\n",
    "        def res(G):\n",
    "            node = GC.fresh(1)[0]\n",
    "            inputs1 = [f\"{node}:{inp}\" for inp in inputs]\n",
    "            outputs1 = [f\"{node}:{outp}\" for outp in outputs]\n",
    "            grphstring = \"{ {\" + \" | \".join(inputs_label) + \"} | \" + name + \" | {\"  + \"|\".join(outputs_label) + \"} }\"\n",
    "            G.node(node,grphstring, shape=\"record\")\n",
    "            return inputs1, outputs1\n",
    "        return GC(res)\n",
    "    def fst(): # project out first par of tuple. semnatically equal to (id * dump)\n",
    "        return GraphCat.block(\"fst\", [\"a\",\"b\"], [\"a1\"])\n",
    "    def snd(): # dump * id\n",
    "        return GraphCat.block(\"fst\", [\"a\",\"b\"], [\"b1\"])\n",
    "    def run(self): # will run the object on a fresh graphviz object\n",
    "        dot = graphviz.Digraph()\n",
    "        dot.format = 'svg'\n",
    "        self.res(dot)\n",
    "        return dot\n",
    "    def __matmul__(self, rhs): # matrix multiplication is a natural analog of composition\n",
    "        return GC.compose(self, rhs)\n",
    "    def __mul__(self, rhs): # monoidal product\n",
    "        return GC.par(self, rhs)\n",
    "    def __add__(self,rhs): # hmm. What should addition be? Join?\n",
    "        pass\n",
    "    def const(label): # inject a constant in. A labelled node with 1 outport and no input\n",
    "        def res(G):\n",
    "            node = GraphCat.fresh(1)[0]\n",
    "            G.node(node, str(label))\n",
    "            return [], [node]\n",
    "        return GC(res)\n",
    "    def cup(): \n",
    "        def res(G):\n",
    "            nodes = GraphCat.fresh(2)\n",
    "            for node in nodes:\n",
    "                G.node(node, shape=\"point\")\n",
    "            G.edge(nodes[0],nodes[1])\n",
    "            return [], nodes\n",
    "        return GraphCat(res)\n",
    "    def cap():\n",
    "        return GraphCat.converse(GraphCat.cup())\n",
    "\n",
    "        \n",
    "            \n",
    "# class stuff is just so I can get operator overloading\n"
   ]
  },
  {
   "cell_type": "code",
   "execution_count": 170,
   "metadata": {
    "scrolled": true
   },
   "outputs": [
    {
     "name": "stdout",
     "output_type": "stream",
     "text": [
      "['207202065', '352210217']\n",
      "['264989493', '893601321']\n",
      "['601677038', '452264168']\n",
      "['207202065', '352210217']\n"
     ]
    },
    {
     "data": {
      "text/plain": [
       "'cupcap.svg'"
      ]
     },
     "execution_count": 170,
     "metadata": {},
     "output_type": "execute_result"
    }
   ],
   "source": [
    "cup = GraphCat.cup()\n",
    "cap = GraphCat.cap()\n",
    "I = GraphCat.idd()\n",
    "d =  cap @ (I * I) @ cup  #(I * cap) @ (I * I * I) @ (cup * I) \n",
    "d = d.run()\n",
    "d.format = \"svg\"\n",
    "d.render(\"cupcap\")"
   ]
  },
  {
   "cell_type": "code",
   "execution_count": 171,
   "metadata": {},
   "outputs": [
    {
     "data": {
      "text/plain": [
       "'adders.png'"
      ]
     },
     "execution_count": 171,
     "metadata": {},
     "output_type": "execute_result"
    }
   ],
   "source": [
    "GC = GraphCat\n",
    "plus = GraphCat.block(\"+\", [\"a\",\"b\"], [\"c\"])\n",
    "I = GraphCat.idd()\n",
    "diagram = plus @ (plus * I) \n",
    "p1 = plus\n",
    "p2 = p1 @ (p1 * p1)\n",
    "p3 = p1 @ (p2 * p2)\n",
    "p4 = p1 @ (p3 * p3)\n",
    "\n",
    "d = p4.run()\n",
    "d.format = \"png\"\n",
    "d.render(\"adders\")\n"
   ]
  },
  {
   "cell_type": "code",
   "execution_count": 173,
   "metadata": {},
   "outputs": [
    {
     "data": {
      "text/plain": [
       "'adders.png'"
      ]
     },
     "execution_count": 173,
     "metadata": {},
     "output_type": "execute_result"
    }
   ],
   "source": [
    "d = plus @ (GC.const(1) * GC.const(2))\n",
    "d = d.run()\n",
    "d.format = \"png\"\n",
    "d.render(\"adders\")"
   ]
  },
  {
   "cell_type": "code",
   "execution_count": 136,
   "metadata": {},
   "outputs": [
    {
     "name": "stdout",
     "output_type": "stream",
     "text": [
      "['450257802', '450257802']\n",
      "['171924041:a', '171924041:b']\n"
     ]
    },
    {
     "data": {
      "image/svg+xml": [
       "<?xml version=\"1.0\" encoding=\"UTF-8\" standalone=\"no\"?>\n",
       "<!DOCTYPE svg PUBLIC \"-//W3C//DTD SVG 1.1//EN\"\n",
       " \"http://www.w3.org/Graphics/SVG/1.1/DTD/svg11.dtd\">\n",
       "<!-- Generated by graphviz version 2.40.1 (20161225.0304)\n",
       " -->\n",
       "<!-- Title: %3 Pages: 1 -->\n",
       "<svg width=\"62pt\" height=\"115pt\"\n",
       " viewBox=\"0.00 0.00 62.00 114.60\" xmlns=\"http://www.w3.org/2000/svg\" xmlns:xlink=\"http://www.w3.org/1999/xlink\">\n",
       "<g id=\"graph0\" class=\"graph\" transform=\"scale(1 1) rotate(0) translate(4 110.6)\">\n",
       "<title>%3</title>\n",
       "<polygon fill=\"#ffffff\" stroke=\"transparent\" points=\"-4,4 -4,-110.6 58,-110.6 58,4 -4,4\"/>\n",
       "<!-- 450257802 -->\n",
       "<g id=\"node1\" class=\"node\">\n",
       "<title>450257802</title>\n",
       "<ellipse fill=\"#00ff00\" stroke=\"#000000\" cx=\"27\" cy=\"-104.8\" rx=\"1.8\" ry=\"1.8\"/>\n",
       "</g>\n",
       "<!-- 171924041 -->\n",
       "<g id=\"node2\" class=\"node\">\n",
       "<title>171924041</title>\n",
       "<polygon fill=\"none\" stroke=\"#000000\" points=\"0,-.5 0,-66.5 54,-66.5 54,-.5 0,-.5\"/>\n",
       "<text text-anchor=\"middle\" x=\"13.1069\" y=\"-51.3\" font-family=\"Times,serif\" font-size=\"14.00\" fill=\"#000000\">a</text>\n",
       "<polyline fill=\"none\" stroke=\"#000000\" points=\"26.2139,-44.5 26.2139,-66.5 \"/>\n",
       "<text text-anchor=\"middle\" x=\"39.7139\" y=\"-51.3\" font-family=\"Times,serif\" font-size=\"14.00\" fill=\"#000000\">b</text>\n",
       "<polyline fill=\"none\" stroke=\"#000000\" points=\"0,-44.5 53.2139,-44.5 \"/>\n",
       "<text text-anchor=\"middle\" x=\"26.6069\" y=\"-29.3\" font-family=\"Times,serif\" font-size=\"14.00\" fill=\"#000000\">fst</text>\n",
       "<polyline fill=\"none\" stroke=\"#000000\" points=\"0,-22.5 53.2139,-22.5 \"/>\n",
       "<text text-anchor=\"middle\" x=\"26.6069\" y=\"-7.3\" font-family=\"Times,serif\" font-size=\"14.00\" fill=\"#000000\">a1</text>\n",
       "</g>\n",
       "<!-- 450257802&#45;&gt;171924041 -->\n",
       "<g id=\"edge1\" class=\"edge\">\n",
       "<title>450257802&#45;&gt;171924041:a</title>\n",
       "<path fill=\"none\" stroke=\"#000000\" d=\"M25.9014,-103.1248C23.3488,-99.1031 17.0271,-88.3716 14.2936,-76.7712\"/>\n",
       "<polygon fill=\"#000000\" stroke=\"#000000\" points=\"17.7222,-75.9843 13,-66.5 10.777,-76.859 17.7222,-75.9843\"/>\n",
       "</g>\n",
       "<!-- 450257802&#45;&gt;171924041 -->\n",
       "<g id=\"edge2\" class=\"edge\">\n",
       "<title>450257802&#45;&gt;171924041:b</title>\n",
       "<path fill=\"none\" stroke=\"#000000\" d=\"M28.0201,-103.1139C30.3904,-99.0681 36.2606,-88.2832 38.7988,-76.7163\"/>\n",
       "<polygon fill=\"#000000\" stroke=\"#000000\" points=\"42.3083,-76.8403 40,-66.5 35.3562,-76.0229 42.3083,-76.8403\"/>\n",
       "</g>\n",
       "</g>\n",
       "</svg>\n"
      ],
      "text/plain": [
       "<graphviz.dot.Digraph at 0x10f0fa550>"
      ]
     },
     "execution_count": 136,
     "metadata": {},
     "output_type": "execute_result"
    }
   ],
   "source": [
    "fst = GraphCat.fst()\n",
    "snd = GraphCat.fst()\n",
    "d =  fst @ dup\n",
    "d.run()"
   ]
  },
  {
   "cell_type": "code",
   "execution_count": 174,
   "metadata": {},
   "outputs": [
    {
     "data": {
      "text/plain": [
       "'randomstuff.png'"
      ]
     },
     "execution_count": 174,
     "metadata": {},
     "output_type": "execute_result"
    }
   ],
   "source": [
    "GC = GraphCat\n",
    "f = GraphCat.named_simple(\"f\")\n",
    "g = GraphCat.named_simple(\"g\")\n",
    "I = GraphCat.idd()\n",
    "dump = GC.dump()\n",
    "dup = GC.dup()\n",
    "diagram = ((f * I) @ dup @ g @ (dump * I)  @ (I * f) @ (f * f)) * g\n",
    "d = diagram.run()\n",
    "\n",
    "d.format = \"png\"\n",
    "d.render(\"randomstuff\")\n",
    "    "
   ]
  },
  {
   "cell_type": "code",
   "execution_count": 95,
   "metadata": {},
   "outputs": [
    {
     "name": "stdout",
     "output_type": "stream",
     "text": [
      "['833860904']\n",
      "['621500616']\n"
     ]
    },
    {
     "data": {
      "image/svg+xml": [
       "<?xml version=\"1.0\" encoding=\"UTF-8\" standalone=\"no\"?>\n",
       "<!DOCTYPE svg PUBLIC \"-//W3C//DTD SVG 1.1//EN\"\n",
       " \"http://www.w3.org/Graphics/SVG/1.1/DTD/svg11.dtd\">\n",
       "<!-- Generated by graphviz version 2.40.1 (20161225.0304)\n",
       " -->\n",
       "<!-- Title: %3 Pages: 1 -->\n",
       "<svg width=\"34pt\" height=\"12pt\"\n",
       " viewBox=\"0.00 0.00 33.60 11.60\" xmlns=\"http://www.w3.org/2000/svg\" xmlns:xlink=\"http://www.w3.org/1999/xlink\">\n",
       "<g id=\"graph0\" class=\"graph\" transform=\"scale(1 1) rotate(0) translate(4 7.6)\">\n",
       "<title>%3</title>\n",
       "<polygon fill=\"#ffffff\" stroke=\"transparent\" points=\"-4,4 -4,-7.6 29.6,-7.6 29.6,4 -4,4\"/>\n",
       "<!-- 566417308 -->\n",
       "<g id=\"node1\" class=\"node\">\n",
       "<title>566417308</title>\n",
       "<ellipse fill=\"#000000\" stroke=\"#000000\" cx=\"1.8\" cy=\"-1.8\" rx=\"1.8\" ry=\"1.8\"/>\n",
       "</g>\n",
       "<!-- 435410857 -->\n",
       "<g id=\"node2\" class=\"node\">\n",
       "<title>435410857</title>\n",
       "<ellipse fill=\"#000000\" stroke=\"#000000\" cx=\"23.8\" cy=\"-1.8\" rx=\"1.8\" ry=\"1.8\"/>\n",
       "</g>\n",
       "</g>\n",
       "</svg>\n"
      ],
      "text/plain": [
       "<graphviz.dot.Digraph at 0x10f122690>"
      ]
     },
     "execution_count": 95,
     "metadata": {},
     "output_type": "execute_result"
    }
   ],
   "source": [
    "GC = GraphCat\n",
    "(GC.idd() @ GC.idd()).run()\n",
    "(GC.idd() * GC.idd()).run()"
   ]
  },
  {
   "cell_type": "code",
   "execution_count": 1,
   "metadata": {},
   "outputs": [
    {
     "data": {
      "text/plain": [
       "[3, 4, 5]"
      ]
     },
     "execution_count": 1,
     "metadata": {},
     "output_type": "execute_result"
    }
   ],
   "source": [
    "list(range(3,2*3))"
   ]
  },
  {
   "cell_type": "code",
   "execution_count": null,
   "metadata": {},
   "outputs": [],
   "source": [
    "class FinVect(np.ndarray):\n",
    "\n",
    "    def compose(f,g):\n",
    "        return f @ g\n",
    "    def idd(n):\n",
    "        return np.eye(n)\n",
    "    def par(f,g):\n",
    "        return np.kron(f,g)\n",
    "    def __mult__(self,rhs):\n",
    "        return np.kron(f,g)\n",
    "    "
   ]
  },
  {
   "cell_type": "code",
   "execution_count": 36,
   "metadata": {},
   "outputs": [],
   "source": [
    "import scipy.sparse as sp\n",
    "class LinRel(): #subclass Cat? \n",
    "    def __init__(self, m, inputs, outputs):\n",
    "        self.inputs = inputs # list of indices for []\n",
    "        self.outputs = outputs\n",
    "        self.m = m\n",
    "        #self.v = v # offsets\n",
    "        #self.outputs = output\n",
    "        # also might want to track labels for indices.\n",
    "    def shift(f, n):\n",
    "        return [i + n for i in f]\n",
    "    def idd(n):\n",
    "        I = sp.identity(n)\n",
    "        inputs = list(range(n))\n",
    "        outputs = list(range(n, 2*n))\n",
    "        return LinRel(sp.bmat([[I,-I]]), inputs, outputs)\n",
    "    def compose(f,g):\n",
    "        a = len(f.inputs)\n",
    "        b = len(f.outputs)\n",
    "        b1 = len(g.inputs)\n",
    "        assert(b == b1)\n",
    "        c = len(g.outputs)\n",
    "        m = sp.bmat( [[f.m, None], [None ,g.m ]]) # this is direct sum\n",
    "        gi = [i + f.m.shape[1] for i in g.inputs] # shift indices of second\n",
    "        go = [i + f.m.shape[1] for i in g.outputs]\n",
    "        constraints = sp.lil_matrix((b, a + b + b1 + c))\n",
    "        constraints[range(b), f.outputs] = 1 \n",
    "        constraints[range(b), gi] = -1 \n",
    "        \n",
    "        #constraint = sp.hstack(  p1, -p2 )\n",
    "        return LinRel(sp.bmat([[m], [constraints]]) , f.inputs, go) #np.vstack(f.v,g.v, np.zeros(b))\n",
    "    def par(f,g):\n",
    "        m = sp.bmat( [[f.m, None], [None , g.m ]])\n",
    "        gi = [i + f.m.shape[1] for i in g.inputs] # shift indices of second\n",
    "        go = [i + f.m.shape[1] for i in g.outputs]\n",
    "        return LinRel(m,  f.inputs + gi, f.outputs + go) # np.vstack(f.v, g.v) ,\n",
    "    def __matmul__(self,rhs):\n",
    "        return LinRel.compose(self,rhs)\n",
    "    def join(f,g): # meet and join become more complex. We may have a permutation.\n",
    "        pass# can I even express join? Seems hard, yeah.\n",
    "    def meet(f,g):\n",
    "        pass\n",
    "    # do we even want this direct representation anyway?\n",
    "        "
   ]
  },
  {
   "cell_type": "code",
   "execution_count": 43,
   "metadata": {},
   "outputs": [
    {
     "name": "stdout",
     "output_type": "stream",
     "text": [
      "[[ 1.  0.  0. -1.  0.  0.  0.  0.  0.  0.  0.  0.]\n",
      " [ 0.  1.  0.  0. -1.  0.  0.  0.  0.  0.  0.  0.]\n",
      " [ 0.  0.  1.  0.  0. -1.  0.  0.  0.  0.  0.  0.]\n",
      " [ 0.  0.  0.  0.  0.  0.  1.  0.  0. -1.  0.  0.]\n",
      " [ 0.  0.  0.  0.  0.  0.  0.  1.  0.  0. -1.  0.]\n",
      " [ 0.  0.  0.  0.  0.  0.  0.  0.  1.  0.  0. -1.]\n",
      " [ 0.  0.  0.  1.  0.  0. -1.  0.  0.  0.  0.  0.]\n",
      " [ 0.  0.  0.  0.  1.  0.  0. -1.  0.  0.  0.  0.]\n",
      " [ 0.  0.  0.  0.  0.  1.  0.  0. -1.  0.  0.  0.]]\n",
      "[9, 10, 11]\n",
      "[[ 1.  0.  0. -1.  0.  0.  0.  0.  0.  0.  0.  0.]\n",
      " [ 0.  1.  0.  0. -1.  0.  0.  0.  0.  0.  0.  0.]\n",
      " [ 0.  0.  1.  0.  0. -1.  0.  0.  0.  0.  0.  0.]\n",
      " [ 0.  0.  0.  0.  0.  0.  1.  0.  0. -1.  0.  0.]\n",
      " [ 0.  0.  0.  0.  0.  0.  0.  1.  0.  0. -1.  0.]\n",
      " [ 0.  0.  0.  0.  0.  0.  0.  0.  1.  0.  0. -1.]]\n"
     ]
    }
   ],
   "source": [
    "x= LinRel.idd(3)\n",
    "print(LinRel.compose(x,x).m.toarray())\n",
    "print(LinRel.compose(x,x).outputs)\n",
    "print(LinRel.par(x,x).m.toarray())"
   ]
  },
  {
   "cell_type": "code",
   "execution_count": null,
   "metadata": {},
   "outputs": [],
   "source": [
    "class CvxRel():\n",
    "    def __init__(self):\n",
    "    def compose(f,g):\n",
    "        def res():\n",
    "            a, b, fc = f()\n",
    "            b1, c, gc = g()\n",
    "            return a, c, gc + fc + [w == v for v, w in zip(b,b1)]\n",
    "        return res\n",
    "    def join(f,g): # ????\n",
    "        def res():\n",
    "            a, b, fc = f()\n",
    "            a1, b1, gc = g()\n",
    "            a2 = Variable()\n",
    "            a2 == l * a1 + (1- l) * a #???? Sure not a convex constraint? Is it SOCP maybe? Or SOS?\n",
    "    def meet():\n",
    "        def res():\n",
    "            a, b, fc = f()\n",
    "            a1, b1, gc = g()\n",
    "            a, b, fc + gc + [a == a1, b == b1]\n",
    "    def \n",
    "            \n",
    "# ADMM combinators.\n",
    "\n",
    "# Hmm. does homoegnoeity help?\n",
    "# for 2 points in a cone, there always exists z = y + x in the convex hull\n",
    "# ok, but then we can't use == for composition. Now equality is that one is a scalar multiple of the other.\n",
    "# maybe we need to pass around a dual pair? no, we'd still need to express a dot product constraint.\n",
    "#   x cdot y >= 0, isn't this a schur complement constraint? [[0, x], [y^T, I]] >= 0"
   ]
  },
  {
   "cell_type": "markdown",
   "metadata": {},
   "source": [
    "Convex hull\n",
    "\n",
    "could I hold a dual representation?\n",
    "\n",
    "\n",
    "w == x or w == y as controlled by a mip variable z.\n",
    "\n",
    "  x - M * z  <= w <=  x + M*z\n",
    "   y - M*(1-z)   <=  w <= y + M*(1-z)\n",
    "   \n",
    "   \n",
    "   \n",
    "   \n",
    "   x + y <= w <= (x + y)/2\n",
    "   \n",
    "  l * z + (1 - l) * (1 - z)\n",
    "   l z + l z + 1 - l - z = 0\n",
    "   2 l z - l - z + 1 = 0\n",
    "   (2 z - 1)l  = z - 1\n",
    "   l = z - 1 / ( 2 z - 1)\n",
    "   \n",
    "   No this doesn't even type check. y and z and w are vectors. I guess M could be a vector\n",
    "   \n",
    "   \n",
    "   w - M * z  <= x <=  w + M*z\n",
    "   w - M*(1-z)  <=  y <= w + M*(1-z)\n",
    "   \n",
    "cone version   \n",
    "x + y = z # convex hull\n",
    "\n",
    "but then equality is hard\n",
    "\n",
    "\n",
    "a z l = \n",
    "\n",
    "\n",
    "   "
   ]
  },
  {
   "cell_type": "code",
   "execution_count": null,
   "metadata": {},
   "outputs": [],
   "source": []
  },
  {
   "cell_type": "code",
   "execution_count": 49,
   "metadata": {},
   "outputs": [
    {
     "data": {
      "text/plain": [
       "[<matplotlib.lines.Line2D at 0x10ef4c150>]"
      ]
     },
     "execution_count": 49,
     "metadata": {},
     "output_type": "execute_result"
    },
    {
     "data": {
      "image/png": "[encoded data removed]",
      "text/plain": [
       "<Figure size 432x288 with 1 Axes>"
      ]
     },
     "metadata": {
      "needs_background": "light"
     },
     "output_type": "display_data"
    }
   ],
   "source": [
    "import matplotlib.pyplot as plt\n",
    "import numpy as np\n",
    "z = np.linspace(0,1)\n",
    "plt.plot(z, (z - 1) / ( 2 * z - 1))"
   ]
  },
  {
   "cell_type": "code",
   "execution_count": 29,
   "metadata": {},
   "outputs": [
    {
     "ename": "DCPError",
     "evalue": "Problem does not follow DCP rules. Specifically:\nThe following constraints are not DCP:\nvar2 == var3 * var0 + (1.0 + -var3) * var1 , because the following subexpressions are not:\n|--  var3 * var0\n|--  (1.0 + -var3) * var1",
     "output_type": "error",
     "traceback": [
      "\u001b[0;31m---------------------------------------------------------------------------\u001b[0m",
      "\u001b[0;31mDCPError\u001b[0m                                  Traceback (most recent call last)",
      "\u001b[0;32m<ipython-input-29-9841eb1d034a>\u001b[0m in \u001b[0;36m<module>\u001b[0;34m\u001b[0m\n\u001b[1;32m     10\u001b[0m \u001b[0mc\u001b[0m \u001b[0;34m+=\u001b[0m \u001b[0;34m[\u001b[0m\u001b[0mz\u001b[0m \u001b[0;34m==\u001b[0m \u001b[0ml\u001b[0m \u001b[0;34m*\u001b[0m \u001b[0mx\u001b[0m \u001b[0;34m+\u001b[0m \u001b[0;34m(\u001b[0m\u001b[0;36m1\u001b[0m \u001b[0;34m-\u001b[0m \u001b[0ml\u001b[0m\u001b[0;34m)\u001b[0m \u001b[0;34m*\u001b[0m \u001b[0my\u001b[0m\u001b[0;34m]\u001b[0m\u001b[0;34m\u001b[0m\u001b[0;34m\u001b[0m\u001b[0m\n\u001b[1;32m     11\u001b[0m \u001b[0mprob\u001b[0m \u001b[0;34m=\u001b[0m \u001b[0mcvx\u001b[0m\u001b[0;34m.\u001b[0m\u001b[0mProblem\u001b[0m\u001b[0;34m(\u001b[0m\u001b[0mcvx\u001b[0m\u001b[0;34m.\u001b[0m\u001b[0mMinimize\u001b[0m\u001b[0;34m(\u001b[0m\u001b[0;36m1\u001b[0m\u001b[0;34m)\u001b[0m\u001b[0;34m,\u001b[0m \u001b[0mc\u001b[0m\u001b[0;34m)\u001b[0m\u001b[0;34m\u001b[0m\u001b[0;34m\u001b[0m\u001b[0m\n\u001b[0;32m---> 12\u001b[0;31m \u001b[0mprob\u001b[0m\u001b[0;34m.\u001b[0m\u001b[0msolve\u001b[0m\u001b[0;34m(\u001b[0m\u001b[0;34m)\u001b[0m\u001b[0;34m\u001b[0m\u001b[0;34m\u001b[0m\u001b[0m\n\u001b[0m",
      "\u001b[0;32m/usr/local/lib/python3.7/site-packages/cvxpy/problems/problem.py\u001b[0m in \u001b[0;36msolve\u001b[0;34m(self, *args, **kwargs)\u001b[0m\n\u001b[1;32m    287\u001b[0m         \u001b[0;32melse\u001b[0m\u001b[0;34m:\u001b[0m\u001b[0;34m\u001b[0m\u001b[0;34m\u001b[0m\u001b[0m\n\u001b[1;32m    288\u001b[0m             \u001b[0msolve_func\u001b[0m \u001b[0;34m=\u001b[0m \u001b[0mProblem\u001b[0m\u001b[0;34m.\u001b[0m\u001b[0m_solve\u001b[0m\u001b[0;34m\u001b[0m\u001b[0;34m\u001b[0m\u001b[0m\n\u001b[0;32m--> 289\u001b[0;31m         \u001b[0;32mreturn\u001b[0m \u001b[0msolve_func\u001b[0m\u001b[0;34m(\u001b[0m\u001b[0mself\u001b[0m\u001b[0;34m,\u001b[0m \u001b[0;34m*\u001b[0m\u001b[0margs\u001b[0m\u001b[0;34m,\u001b[0m \u001b[0;34m**\u001b[0m\u001b[0mkwargs\u001b[0m\u001b[0;34m)\u001b[0m\u001b[0;34m\u001b[0m\u001b[0;34m\u001b[0m\u001b[0m\n\u001b[0m\u001b[1;32m    290\u001b[0m \u001b[0;34m\u001b[0m\u001b[0m\n\u001b[1;32m    291\u001b[0m     \u001b[0;34m@\u001b[0m\u001b[0mclassmethod\u001b[0m\u001b[0;34m\u001b[0m\u001b[0;34m\u001b[0m\u001b[0m\n",
      "\u001b[0;32m/usr/local/lib/python3.7/site-packages/cvxpy/problems/problem.py\u001b[0m in \u001b[0;36m_solve\u001b[0;34m(self, solver, warm_start, verbose, parallel, gp, qcp, **kwargs)\u001b[0m\n\u001b[1;32m    565\u001b[0m                     solver, warm_start, verbose, **kwargs)\n\u001b[1;32m    566\u001b[0m \u001b[0;34m\u001b[0m\u001b[0m\n\u001b[0;32m--> 567\u001b[0;31m         \u001b[0mself\u001b[0m\u001b[0;34m.\u001b[0m\u001b[0m_construct_chains\u001b[0m\u001b[0;34m(\u001b[0m\u001b[0msolver\u001b[0m\u001b[0;34m=\u001b[0m\u001b[0msolver\u001b[0m\u001b[0;34m,\u001b[0m \u001b[0mgp\u001b[0m\u001b[0;34m=\u001b[0m\u001b[0mgp\u001b[0m\u001b[0;34m)\u001b[0m\u001b[0;34m\u001b[0m\u001b[0;34m\u001b[0m\u001b[0m\n\u001b[0m\u001b[1;32m    568\u001b[0m         data, solving_inverse_data = self._solving_chain.apply(\n\u001b[1;32m    569\u001b[0m             self._intermediate_problem)\n",
      "\u001b[0;32m/usr/local/lib/python3.7/site-packages/cvxpy/problems/problem.py\u001b[0m in \u001b[0;36m_construct_chains\u001b[0;34m(self, solver, gp)\u001b[0m\n\u001b[1;32m    508\u001b[0m \u001b[0;34m\u001b[0m\u001b[0m\n\u001b[1;32m    509\u001b[0m             \u001b[0;32mexcept\u001b[0m \u001b[0mException\u001b[0m \u001b[0;32mas\u001b[0m \u001b[0me\u001b[0m\u001b[0;34m:\u001b[0m\u001b[0;34m\u001b[0m\u001b[0;34m\u001b[0m\u001b[0m\n\u001b[0;32m--> 510\u001b[0;31m                 \u001b[0;32mraise\u001b[0m \u001b[0me\u001b[0m\u001b[0;34m\u001b[0m\u001b[0;34m\u001b[0m\u001b[0m\n\u001b[0m\u001b[1;32m    511\u001b[0m \u001b[0;34m\u001b[0m\u001b[0m\n\u001b[1;32m    512\u001b[0m     def _solve(self,\n",
      "\u001b[0;32m/usr/local/lib/python3.7/site-packages/cvxpy/problems/problem.py\u001b[0m in \u001b[0;36m_construct_chains\u001b[0;34m(self, solver, gp)\u001b[0m\n\u001b[1;32m    497\u001b[0m \u001b[0;34m\u001b[0m\u001b[0m\n\u001b[1;32m    498\u001b[0m                 \u001b[0mself\u001b[0m\u001b[0;34m.\u001b[0m\u001b[0m_intermediate_chain\u001b[0m \u001b[0;34m=\u001b[0m\u001b[0;31m \u001b[0m\u001b[0;31m\\\u001b[0m\u001b[0;34m\u001b[0m\u001b[0;34m\u001b[0m\u001b[0m\n\u001b[0;32m--> 499\u001b[0;31m                     \u001b[0mconstruct_intermediate_chain\u001b[0m\u001b[0;34m(\u001b[0m\u001b[0mself\u001b[0m\u001b[0;34m,\u001b[0m \u001b[0mcandidate_solvers\u001b[0m\u001b[0;34m,\u001b[0m \u001b[0mgp\u001b[0m\u001b[0;34m=\u001b[0m\u001b[0mgp\u001b[0m\u001b[0;34m)\u001b[0m\u001b[0;34m\u001b[0m\u001b[0;34m\u001b[0m\u001b[0m\n\u001b[0m\u001b[1;32m    500\u001b[0m                 \u001b[0mself\u001b[0m\u001b[0;34m.\u001b[0m\u001b[0m_intermediate_problem\u001b[0m\u001b[0;34m,\u001b[0m \u001b[0mself\u001b[0m\u001b[0;34m.\u001b[0m\u001b[0m_intermediate_inverse_data\u001b[0m \u001b[0;34m=\u001b[0m\u001b[0;31m \u001b[0m\u001b[0;31m\\\u001b[0m\u001b[0;34m\u001b[0m\u001b[0;34m\u001b[0m\u001b[0m\n\u001b[1;32m    501\u001b[0m                     \u001b[0mself\u001b[0m\u001b[0;34m.\u001b[0m\u001b[0m_intermediate_chain\u001b[0m\u001b[0;34m.\u001b[0m\u001b[0mapply\u001b[0m\u001b[0;34m(\u001b[0m\u001b[0mself\u001b[0m\u001b[0;34m)\u001b[0m\u001b[0;34m\u001b[0m\u001b[0;34m\u001b[0m\u001b[0m\n",
      "\u001b[0;32m/usr/local/lib/python3.7/site-packages/cvxpy/reductions/solvers/intermediate_chain.py\u001b[0m in \u001b[0;36mconstruct_intermediate_chain\u001b[0;34m(problem, candidates, gp)\u001b[0m\n\u001b[1;32m     68\u001b[0m             append += (\"\\nHowever, the problem does follow DQCP rules. \"\n\u001b[1;32m     69\u001b[0m                        \"Consider calling solve() with `qcp=True`.\")\n\u001b[0;32m---> 70\u001b[0;31m         \u001b[0;32mraise\u001b[0m \u001b[0mDCPError\u001b[0m\u001b[0;34m(\u001b[0m\u001b[0;34m\"Problem does not follow DCP rules. Specifically:\\n\"\u001b[0m \u001b[0;34m+\u001b[0m \u001b[0mappend\u001b[0m\u001b[0;34m)\u001b[0m\u001b[0;34m\u001b[0m\u001b[0;34m\u001b[0m\u001b[0m\n\u001b[0m\u001b[1;32m     71\u001b[0m \u001b[0;34m\u001b[0m\u001b[0m\n\u001b[1;32m     72\u001b[0m     \u001b[0;32melif\u001b[0m \u001b[0mgp\u001b[0m \u001b[0;32mand\u001b[0m \u001b[0;32mnot\u001b[0m \u001b[0mproblem\u001b[0m\u001b[0;34m.\u001b[0m\u001b[0mis_dgp\u001b[0m\u001b[0;34m(\u001b[0m\u001b[0;34m)\u001b[0m\u001b[0;34m:\u001b[0m\u001b[0;34m\u001b[0m\u001b[0;34m\u001b[0m\u001b[0m\n",
      "\u001b[0;31mDCPError\u001b[0m: Problem does not follow DCP rules. Specifically:\nThe following constraints are not DCP:\nvar2 == var3 * var0 + (1.0 + -var3) * var1 , because the following subexpressions are not:\n|--  var3 * var0\n|--  (1.0 + -var3) * var1"
     ]
    }
   ],
   "source": [
    "import cvxpy as cvx\n",
    "x =  cvx.Variable(1)\n",
    "y = cvx.Variable(1)\n",
    "z = cvx.Variable(1)\n",
    "l = cvx.Variable(1)\n",
    "\n",
    "c = []\n",
    "c += [x <= -1, y >= 1]\n",
    "c += [l <= 1, 0 <= l]\n",
    "c += [z == l * x + (1 - l) * y]\n",
    "prob = cvx.Problem(cvx.Minimize(1), c)\n",
    "prob.solve()"
   ]
  },
  {
   "cell_type": "code",
   "execution_count": 28,
   "metadata": {},
   "outputs": [
    {
     "data": {
      "image/svg+xml": [
       "<?xml version=\"1.0\" encoding=\"UTF-8\" standalone=\"no\"?>\n",
       "<!DOCTYPE svg PUBLIC \"-//W3C//DTD SVG 1.1//EN\"\n",
       " \"http://www.w3.org/Graphics/SVG/1.1/DTD/svg11.dtd\">\n",
       "<!-- Generated by graphviz version 2.40.1 (20161225.0304)\n",
       " -->\n",
       "<!-- Title: %3 Pages: 1 -->\n",
       "<svg width=\"34pt\" height=\"51pt\"\n",
       " viewBox=\"0.00 0.00 33.60 51.20\" xmlns=\"http://www.w3.org/2000/svg\" xmlns:xlink=\"http://www.w3.org/1999/xlink\">\n",
       "<g id=\"graph0\" class=\"graph\" transform=\"scale(1 1) rotate(0) translate(4 47.2)\">\n",
       "<title>%3</title>\n",
       "<polygon fill=\"#ffffff\" stroke=\"transparent\" points=\"-4,4 -4,-47.2 29.6,-47.2 29.6,4 -4,4\"/>\n",
       "<!-- 742959129 -->\n",
       "<g id=\"node1\" class=\"node\">\n",
       "<title>742959129</title>\n",
       "<ellipse fill=\"#000000\" stroke=\"#000000\" cx=\"12.8\" cy=\"-41.4\" rx=\"1.8\" ry=\"1.8\"/>\n",
       "</g>\n",
       "<!-- 197054822 -->\n",
       "<g id=\"node2\" class=\"node\">\n",
       "<title>197054822</title>\n",
       "<ellipse fill=\"#000000\" stroke=\"#000000\" cx=\"1.8\" cy=\"-1.8\" rx=\"1.8\" ry=\"1.8\"/>\n",
       "</g>\n",
       "<!-- 742959129&#45;&gt;197054822 -->\n",
       "<g id=\"edge1\" class=\"edge\">\n",
       "<title>742959129&#45;&gt;197054822</title>\n",
       "<path fill=\"none\" stroke=\"#000000\" d=\"M12.2086,-39.2709C10.8832,-34.4996 7.5931,-22.6551 5.0636,-13.549\"/>\n",
       "<polygon fill=\"#000000\" stroke=\"#000000\" points=\"8.3906,-12.4487 2.3417,-3.7503 1.6459,-14.3222 8.3906,-12.4487\"/>\n",
       "</g>\n",
       "<!-- 569604650 -->\n",
       "<g id=\"node3\" class=\"node\">\n",
       "<title>569604650</title>\n",
       "<ellipse fill=\"#ffffff\" stroke=\"#000000\" cx=\"23.8\" cy=\"-1.8\" rx=\"1.8\" ry=\"1.8\"/>\n",
       "</g>\n",
       "<!-- 742959129&#45;&gt;569604650 -->\n",
       "<g id=\"edge2\" class=\"edge\">\n",
       "<title>742959129&#45;&gt;569604650</title>\n",
       "<path fill=\"none\" stroke=\"#000000\" d=\"M13.3914,-39.2709C14.7168,-34.4996 18.0069,-22.6551 20.5364,-13.549\"/>\n",
       "<polygon fill=\"#000000\" stroke=\"#000000\" points=\"23.9541,-14.3222 23.2583,-3.7503 17.2094,-12.4487 23.9541,-14.3222\"/>\n",
       "</g>\n",
       "</g>\n",
       "</svg>\n"
      ],
      "text/plain": [
       "<graphviz.dot.Digraph at 0x1117f5490>"
      ]
     },
     "execution_count": 28,
     "metadata": {},
     "output_type": "execute_result"
    }
   ],
   "source": [
    "# by passing in different category classes, we can make polymorphic functions\n",
    "# They have to have a uniform interface though, which is hard to constrain in python.\n",
    "def polymorphic_prog(M):\n",
    "    idd = M.idd()\n",
    "    dump = M.dump()\n",
    "    dup = M.dup()\n",
    "    return (idd * dump) @ dup\n",
    "poly_prog(GraphCat).run()"
   ]
  },
  {
   "cell_type": "markdown",
   "metadata": {},
   "source": [
    "subgraph(G, nbunch)      - induced subgraph view of G on nodes in nbunch\n",
    "union(G1,G2)             - graph union\n",
    "disjoint_union(G1,G2)    - graph union assuming all nodes are different\n",
    "cartesian_product(G1,G2) - return Cartesian product graph\n",
    "compose(G1,G2)           - combine graphs identifying nodes common to both\n",
    "complement(G)            - graph complement\n",
    "create_empty_copy(G)     - return an empty copy of the same graph class\n",
    "to_undirected(G) - return an undirected representation of G\n",
    "to_directed(G) "
   ]
  },
  {
   "cell_type": "code",
   "execution_count": 61,
   "metadata": {},
   "outputs": [],
   "source": [
    "import networkx as nx\n",
    "import random\n",
    "def fresh(n):\n",
    "    return list([random.randint(0,1e9) for i in range(n)])\n",
    "'''\n",
    "def mk_graph():\n",
    "    G = nx.DiGraph()\n",
    "    n = [random.randint() for i in range(10)]\n",
    "    G.add_node(1)\n",
    "    G.add_node(2)\n",
    "    G.add_edge(1,2)\n",
    "    return G\n",
    "'''\n",
    "def idd(n):\n",
    "    def res():\n",
    "        nodes = fresh(n)\n",
    "        G = nx.DiGraph()\n",
    "        G.add_nodes_from(nodes)\n",
    "        return nodes, nodes, G\n",
    "    return res\n",
    "def compose(f,g):\n",
    "    def res():\n",
    "        a, b, Gf = f()\n",
    "        b1, c, Gg = g()\n",
    "        G = nx.union(Gf,Gg)\n",
    "        G.add_edges_from(zip(b,b1))\n",
    "        return a, c, G\n",
    "    return res"
   ]
  },
  {
   "cell_type": "code",
   "execution_count": 60,
   "metadata": {},
   "outputs": [
    {
     "name": "stdout",
     "output_type": "stream",
     "text": [
      "630870925\n",
      "668388471\n",
      "730035531\n",
      "174388255\n",
      "362691729\n",
      "714586520\n",
      "509097511\n",
      "12230588\n",
      "630870925 362691729\n",
      "668388471 714586520\n",
      "730035531 509097511\n",
      "174388255 12230588\n"
     ]
    },
    {
     "data": {
      "image/png": "[encoded data removed]",
      "text/plain": [
       "<Figure size 432x288 with 1 Axes>"
      ]
     },
     "metadata": {},
     "output_type": "display_data"
    }
   ],
   "source": [
    "a, b , G = compose(idd(4),idd(4))()\n",
    "nx.draw(G)\n",
    "for n in G.nodes():\n",
    "    print(n)\n",
    "    \n",
    "for a,b in G.edges():\n",
    "    print(a,b)"
   ]
  },
  {
   "cell_type": "code",
   "execution_count": 7,
   "metadata": {},
   "outputs": [],
   "source": [
    "%matplotlib inline\n",
    "import matplotlib.pyplot as plt"
   ]
  },
  {
   "cell_type": "code",
   "execution_count": 20,
   "metadata": {},
   "outputs": [
    {
     "ename": "AttributeError",
     "evalue": "'NodeView' object has no attribute 'edges'",
     "output_type": "error",
     "traceback": [
      "\u001b[0;31m---------------------------------------------------------------------------\u001b[0m",
      "\u001b[0;31mAttributeError\u001b[0m                            Traceback (most recent call last)",
      "\u001b[0;32m<ipython-input-20-0afc056826f7>\u001b[0m in \u001b[0;36m<module>\u001b[0;34m\u001b[0m\n\u001b[1;32m      2\u001b[0m \u001b[0mG2\u001b[0m \u001b[0;34m=\u001b[0m \u001b[0mmk_graph\u001b[0m\u001b[0;34m(\u001b[0m\u001b[0;34m)\u001b[0m\u001b[0;34m\u001b[0m\u001b[0;34m\u001b[0m\u001b[0m\n\u001b[1;32m      3\u001b[0m \u001b[0mG3\u001b[0m \u001b[0;34m=\u001b[0m \u001b[0mnx\u001b[0m\u001b[0;34m.\u001b[0m\u001b[0mdisjoint_union\u001b[0m\u001b[0;34m(\u001b[0m\u001b[0mG1\u001b[0m\u001b[0;34m,\u001b[0m \u001b[0mG2\u001b[0m\u001b[0;34m)\u001b[0m\u001b[0;34m.\u001b[0m\u001b[0mnodes\u001b[0m\u001b[0;34m(\u001b[0m\u001b[0;34m)\u001b[0m\u001b[0;34m\u001b[0m\u001b[0;34m\u001b[0m\u001b[0m\n\u001b[0;32m----> 4\u001b[0;31m \u001b[0mnx\u001b[0m\u001b[0;34m.\u001b[0m\u001b[0mdraw\u001b[0m\u001b[0;34m(\u001b[0m\u001b[0mG3\u001b[0m\u001b[0;34m)\u001b[0m\u001b[0;34m\u001b[0m\u001b[0;34m\u001b[0m\u001b[0m\n\u001b[0m",
      "\u001b[0;32m/usr/local/lib/python3.7/site-packages/networkx/drawing/nx_pylab.py\u001b[0m in \u001b[0;36mdraw\u001b[0;34m(G, pos, ax, **kwds)\u001b[0m\n\u001b[1;32m    124\u001b[0m \u001b[0;34m\u001b[0m\u001b[0m\n\u001b[1;32m    125\u001b[0m     \u001b[0;32mtry\u001b[0m\u001b[0;34m:\u001b[0m\u001b[0;34m\u001b[0m\u001b[0;34m\u001b[0m\u001b[0m\n\u001b[0;32m--> 126\u001b[0;31m         \u001b[0mdraw_networkx\u001b[0m\u001b[0;34m(\u001b[0m\u001b[0mG\u001b[0m\u001b[0;34m,\u001b[0m \u001b[0mpos\u001b[0m\u001b[0;34m=\u001b[0m\u001b[0mpos\u001b[0m\u001b[0;34m,\u001b[0m \u001b[0max\u001b[0m\u001b[0;34m=\u001b[0m\u001b[0max\u001b[0m\u001b[0;34m,\u001b[0m \u001b[0;34m**\u001b[0m\u001b[0mkwds\u001b[0m\u001b[0;34m)\u001b[0m\u001b[0;34m\u001b[0m\u001b[0;34m\u001b[0m\u001b[0m\n\u001b[0m\u001b[1;32m    127\u001b[0m         \u001b[0max\u001b[0m\u001b[0;34m.\u001b[0m\u001b[0mset_axis_off\u001b[0m\u001b[0;34m(\u001b[0m\u001b[0;34m)\u001b[0m\u001b[0;34m\u001b[0m\u001b[0;34m\u001b[0m\u001b[0m\n\u001b[1;32m    128\u001b[0m         \u001b[0mplt\u001b[0m\u001b[0;34m.\u001b[0m\u001b[0mdraw_if_interactive\u001b[0m\u001b[0;34m(\u001b[0m\u001b[0;34m)\u001b[0m\u001b[0;34m\u001b[0m\u001b[0;34m\u001b[0m\u001b[0m\n",
      "\u001b[0;32m/usr/local/lib/python3.7/site-packages/networkx/drawing/nx_pylab.py\u001b[0m in \u001b[0;36mdraw_networkx\u001b[0;34m(G, pos, arrows, with_labels, **kwds)\u001b[0m\n\u001b[1;32m    276\u001b[0m \u001b[0;34m\u001b[0m\u001b[0m\n\u001b[1;32m    277\u001b[0m     \u001b[0mnode_collection\u001b[0m \u001b[0;34m=\u001b[0m \u001b[0mdraw_networkx_nodes\u001b[0m\u001b[0;34m(\u001b[0m\u001b[0mG\u001b[0m\u001b[0;34m,\u001b[0m \u001b[0mpos\u001b[0m\u001b[0;34m,\u001b[0m \u001b[0;34m**\u001b[0m\u001b[0mkwds\u001b[0m\u001b[0;34m)\u001b[0m\u001b[0;34m\u001b[0m\u001b[0;34m\u001b[0m\u001b[0m\n\u001b[0;32m--> 278\u001b[0;31m     \u001b[0medge_collection\u001b[0m \u001b[0;34m=\u001b[0m \u001b[0mdraw_networkx_edges\u001b[0m\u001b[0;34m(\u001b[0m\u001b[0mG\u001b[0m\u001b[0;34m,\u001b[0m \u001b[0mpos\u001b[0m\u001b[0;34m,\u001b[0m \u001b[0marrows\u001b[0m\u001b[0;34m=\u001b[0m\u001b[0marrows\u001b[0m\u001b[0;34m,\u001b[0m \u001b[0;34m**\u001b[0m\u001b[0mkwds\u001b[0m\u001b[0;34m)\u001b[0m\u001b[0;34m\u001b[0m\u001b[0;34m\u001b[0m\u001b[0m\n\u001b[0m\u001b[1;32m    279\u001b[0m     \u001b[0;32mif\u001b[0m \u001b[0mwith_labels\u001b[0m\u001b[0;34m:\u001b[0m\u001b[0;34m\u001b[0m\u001b[0;34m\u001b[0m\u001b[0m\n\u001b[1;32m    280\u001b[0m         \u001b[0mdraw_networkx_labels\u001b[0m\u001b[0;34m(\u001b[0m\u001b[0mG\u001b[0m\u001b[0;34m,\u001b[0m \u001b[0mpos\u001b[0m\u001b[0;34m,\u001b[0m \u001b[0;34m**\u001b[0m\u001b[0mkwds\u001b[0m\u001b[0;34m)\u001b[0m\u001b[0;34m\u001b[0m\u001b[0;34m\u001b[0m\u001b[0m\n",
      "\u001b[0;32m/usr/local/lib/python3.7/site-packages/networkx/drawing/nx_pylab.py\u001b[0m in \u001b[0;36mdraw_networkx_edges\u001b[0;34m(G, pos, edgelist, width, edge_color, style, alpha, arrowstyle, arrowsize, edge_cmap, edge_vmin, edge_vmax, ax, arrows, label, node_size, nodelist, node_shape, **kwds)\u001b[0m\n\u001b[1;32m    550\u001b[0m \u001b[0;34m\u001b[0m\u001b[0m\n\u001b[1;32m    551\u001b[0m     \u001b[0;32mif\u001b[0m \u001b[0medgelist\u001b[0m \u001b[0;32mis\u001b[0m \u001b[0;32mNone\u001b[0m\u001b[0;34m:\u001b[0m\u001b[0;34m\u001b[0m\u001b[0;34m\u001b[0m\u001b[0m\n\u001b[0;32m--> 552\u001b[0;31m         \u001b[0medgelist\u001b[0m \u001b[0;34m=\u001b[0m \u001b[0mlist\u001b[0m\u001b[0;34m(\u001b[0m\u001b[0mG\u001b[0m\u001b[0;34m.\u001b[0m\u001b[0medges\u001b[0m\u001b[0;34m(\u001b[0m\u001b[0;34m)\u001b[0m\u001b[0;34m)\u001b[0m\u001b[0;34m\u001b[0m\u001b[0;34m\u001b[0m\u001b[0m\n\u001b[0m\u001b[1;32m    553\u001b[0m \u001b[0;34m\u001b[0m\u001b[0m\n\u001b[1;32m    554\u001b[0m     \u001b[0;32mif\u001b[0m \u001b[0;32mnot\u001b[0m \u001b[0medgelist\u001b[0m \u001b[0;32mor\u001b[0m \u001b[0mlen\u001b[0m\u001b[0;34m(\u001b[0m\u001b[0medgelist\u001b[0m\u001b[0;34m)\u001b[0m \u001b[0;34m==\u001b[0m \u001b[0;36m0\u001b[0m\u001b[0;34m:\u001b[0m  \u001b[0;31m# no edges!\u001b[0m\u001b[0;34m\u001b[0m\u001b[0;34m\u001b[0m\u001b[0m\n",
      "\u001b[0;31mAttributeError\u001b[0m: 'NodeView' object has no attribute 'edges'"
     ]
    },
    {
     "data": {
      "image/png": "[encoded data removed]",
      "text/plain": [
       "<Figure size 432x288 with 1 Axes>"
      ]
     },
     "metadata": {},
     "output_type": "display_data"
    }
   ],
   "source": [
    "\n",
    "G1 = mk_graph()\n",
    "G2 = mk_graph()\n",
    "G3 = nx.disjoint_union(G1, G2).nodes()\n",
    "nx.draw(G3)"
   ]
  },
  {
   "cell_type": "code",
   "execution_count": null,
   "metadata": {},
   "outputs": [],
   "source": [
    "# inductive relations in z3\n",
    "\n",
    "# inductive functions... \n",
    "\n",
    "# \n",
    "\n",
    "from z3 import *\n",
    "\n",
    "\n"
   ]
  }
 ],
 "metadata": {
  "kernelspec": {
   "display_name": "Python 3",
   "language": "python",
   "name": "python3"
  },
  "language_info": {
   "codemirror_mode": {
    "name": "ipython",
    "version": 3
   },
   "file_extension": ".py",
   "mimetype": "text/x-python",
   "name": "python",
   "nbconvert_exporter": "python",
   "pygments_lexer": "ipython3",
   "version": "3.7.5"
  }
 },
 "nbformat": 4,
 "nbformat_minor": 2
}
