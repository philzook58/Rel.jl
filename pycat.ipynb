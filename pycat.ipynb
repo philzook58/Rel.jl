{
 "cells": [
  {
   "cell_type": "markdown",
   "metadata": {},
   "source": [
    "yoneda embedding of dsls into functional form?\n",
    "\n",
    "def yoneda(f):\n",
    "    return lambda g : compose(f,g)\n",
    "class Category():\n",
    "    def I(n):\n",
    "\n",
    "\n",
    "I'd kind of like to have pieces of catlab in python. Sorry. I'm a sinner. When all the good programmers disappear in the rapture I will be left behind.\n",
    "\n",
    "graph generators. netowkrx or graphviz?\n",
    "\n",
    "\n",
    "def id(n):\n",
    "    def res():\n",
    "        a = [simplenode() ]\n",
    "        b = [simplenode() ]\n",
    "        edges = zip(a,b)\n",
    "        graph(a + b, edges)\n",
    "        return a, b, g\n",
    "    return res\n",
    "def compose()\n",
    "\n",
    "\n",
    "def pair()\n",
    "\n",
    "\n",
    "FreeCategory\n",
    "FreeMonoidalCategory\n",
    "FreeCartesianCategory\n",
    "\n",
    "SymPyCat\n",
    "\n",
    "Compose(Id, )\n",
    "\n",
    "rewrite() -> all the laws.\n",
    "Can sympy do a small amount of search?\n",
    "Or maintain a population, so simulated annealing or something\n",
    "\n",
    "\n",
    "do category theory with z3py"
   ]
  }
 ],
 "metadata": {
  "kernelspec": {
   "display_name": "Python 3",
   "language": "python",
   "name": "python3"
  },
  "language_info": {
   "codemirror_mode": {
    "name": "ipython",
    "version": 3
   },
   "file_extension": ".py",
   "mimetype": "text/x-python",
   "name": "python",
   "nbconvert_exporter": "python",
   "pygments_lexer": "ipython3",
   "version": "3.7.5"
  }
 },
 "nbformat": 4,
 "nbformat_minor": 2
}
